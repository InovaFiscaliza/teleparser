{
 "cells": [
  {
   "cell_type": "code",
   "execution_count": 1,
   "metadata": {},
   "outputs": [],
   "source": [
    "from pathlib import Path\n",
    "from binascii import hexlify, unhexlify, b2a_hex\n",
    "from io import BufferedReader\n",
    "\n",
    "folder = Path(\"data\")\n",
    "file = folder / \"timvoz.bin\"\n"
   ]
  },
  {
   "cell_type": "code",
   "execution_count": 2,
   "metadata": {},
   "outputs": [],
   "source": [
    "BUFFER_SIZE = None\n",
    "\n",
    "######################\n",
    "#  global variables  #\n",
    "######################\n",
    "\n",
    "# ASN.1 class\n",
    "UNIVERSAL = 0\n",
    "APPLICATION = 1\n",
    "CONTEXT = 2\n",
    "PRIVATE = 3\n",
    "className = [\"Universal\", \"Application\", \"Context-specific\", \"Private\"]\n",
    "\n",
    "# encoding P/C\n",
    "PRIMITIVE = 0\n",
    "CONSTRUCTOR = 1\n",
    "encodeName = [\"Primitive\", \"Constructor\"]\n",
    "\n",
    "# define the attributes of end-of-contents\n",
    "EOC = [0, 0, 0, 0]\n",
    "\n",
    "CLASS_SHIFT = 6\n",
    "ENCODE_SHIFT = 5\n",
    "CLASSNUM_MASK = 0x1F\n",
    "\n",
    "BITS7_MASK = 0x7F\n",
    "BIT8_SHIFT = 7\n",
    "\n",
    "HIGH_CLASS_NUM = 0x1F\n"
   ]
  },
  {
   "cell_type": "code",
   "execution_count": 3,
   "metadata": {},
   "outputs": [
    {
     "name": "stdout",
     "output_type": "stream",
     "text": [
      "Read 8385524 bytes\n"
     ]
    }
   ],
   "source": [
    "raw_data = file.read_bytes()\n",
    "print(f\"Read {len(raw_data)} bytes\")"
   ]
  },
  {
   "cell_type": "code",
   "execution_count": 4,
   "metadata": {},
   "outputs": [
    {
     "data": {
      "text/plain": [
       "b'\\xa0'"
      ]
     },
     "execution_count": 4,
     "metadata": {},
     "output_type": "execute_result"
    }
   ],
   "source": [
    "raw_data[:1]"
   ]
  },
  {
   "cell_type": "code",
   "execution_count": 5,
   "metadata": {},
   "outputs": [
    {
     "data": {
      "text/plain": [
       "160"
      ]
     },
     "execution_count": 5,
     "metadata": {},
     "output_type": "execute_result"
    }
   ],
   "source": [
    "raw_data[0]"
   ]
  },
  {
   "cell_type": "code",
   "execution_count": 6,
   "metadata": {},
   "outputs": [
    {
     "data": {
      "text/plain": [
       "b'a0'"
      ]
     },
     "execution_count": 6,
     "metadata": {},
     "output_type": "execute_result"
    }
   ],
   "source": [
    "b2a_hex(raw_data[:1])"
   ]
  },
  {
   "cell_type": "code",
   "execution_count": 7,
   "metadata": {},
   "outputs": [
    {
     "data": {
      "text/plain": [
       "160"
      ]
     },
     "execution_count": 7,
     "metadata": {},
     "output_type": "execute_result"
    }
   ],
   "source": [
    "int(b2a_hex(raw_data[:1]), 16)"
   ]
  },
  {
   "cell_type": "code",
   "execution_count": 8,
   "metadata": {},
   "outputs": [
    {
     "data": {
      "text/plain": [
       "'a0'"
      ]
     },
     "execution_count": 8,
     "metadata": {},
     "output_type": "execute_result"
    }
   ],
   "source": [
    "current_tag = raw_data[:1].hex()\n",
    "current_tag"
   ]
  },
  {
   "cell_type": "code",
   "execution_count": 9,
   "metadata": {},
   "outputs": [
    {
     "data": {
      "text/plain": [
       "'a0'"
      ]
     },
     "execution_count": 9,
     "metadata": {},
     "output_type": "execute_result"
    }
   ],
   "source": [
    "hex_string = b2a_hex(raw_data).decode('utf-8')\n",
    "hex_string[:2]"
   ]
  },
  {
   "cell_type": "code",
   "execution_count": 10,
   "metadata": {},
   "outputs": [],
   "source": [
    "current_pos = 0\n",
    "bytes_read = 1"
   ]
  },
  {
   "cell_type": "code",
   "execution_count": 11,
   "metadata": {},
   "outputs": [],
   "source": [
    "data = raw_data[current_pos:]"
   ]
  },
  {
   "cell_type": "code",
   "execution_count": 12,
   "metadata": {},
   "outputs": [
    {
     "data": {
      "text/plain": [
       "160"
      ]
     },
     "execution_count": 12,
     "metadata": {},
     "output_type": "execute_result"
    }
   ],
   "source": [
    "start = data[0]\n",
    "start"
   ]
  },
  {
   "cell_type": "code",
   "execution_count": 13,
   "metadata": {},
   "outputs": [
    {
     "data": {
      "text/plain": [
       "2"
      ]
     },
     "execution_count": 13,
     "metadata": {},
     "output_type": "execute_result"
    }
   ],
   "source": [
    "start >> CLASS_SHIFT"
   ]
  },
  {
   "cell_type": "code",
   "execution_count": 14,
   "metadata": {},
   "outputs": [
    {
     "data": {
      "text/plain": [
       "2"
      ]
     },
     "execution_count": 14,
     "metadata": {},
     "output_type": "execute_result"
    }
   ],
   "source": [
    "tag_class = (start >> CLASS_SHIFT) & 0x03\n",
    "tag_class"
   ]
  },
  {
   "cell_type": "code",
   "execution_count": 15,
   "metadata": {},
   "outputs": [
    {
     "data": {
      "text/plain": [
       "True"
      ]
     },
     "execution_count": 15,
     "metadata": {},
     "output_type": "execute_result"
    }
   ],
   "source": [
    "constructed = bool((start >> ENCODE_SHIFT) & 0x01)\n",
    "constructed\n"
   ]
  },
  {
   "cell_type": "code",
   "execution_count": 16,
   "metadata": {},
   "outputs": [
    {
     "data": {
      "text/plain": [
       "0"
      ]
     },
     "execution_count": 16,
     "metadata": {},
     "output_type": "execute_result"
    }
   ],
   "source": [
    "tag_num = start & CLASSNUM_MASK\n",
    "tag_num"
   ]
  },
  {
   "cell_type": "code",
   "execution_count": 17,
   "metadata": {},
   "outputs": [
    {
     "data": {
      "text/plain": [
       "False"
      ]
     },
     "execution_count": 17,
     "metadata": {},
     "output_type": "execute_result"
    }
   ],
   "source": [
    "tag_num == HIGH_CLASS_NUM"
   ]
  },
  {
   "cell_type": "code",
   "execution_count": 18,
   "metadata": {},
   "outputs": [],
   "source": [
    "def get_tag_id(data):\n",
    "    position = 0\n",
    "    bytes_read = 1\n",
    "\n",
    "    start = data[position]\n",
    "    tag_class = start >> CLASS_SHIFT\n",
    "    constructed = bool((start >> ENCODE_SHIFT) % 2)\n",
    "    tag_number = start & CLASSNUM_MASK\n",
    "\n",
    "    if tag_number == HIGH_CLASS_NUM:\n",
    "        tag_number = 0\n",
    "        position += 1\n",
    "        while True:\n",
    "            bytes_read = bytes_read + 1\n",
    "            byte = data[position] & BITS7_MASK\n",
    "            tag_number = tag_number * 128 + byte\n",
    "            if data[position] >> BIT8_SHIFT == 0:\n",
    "                break\n",
    "            position += 1\n",
    "\n",
    "    return (tag_class, constructed, tag_number, bytes_read)\n"
   ]
  },
  {
   "cell_type": "code",
   "execution_count": 19,
   "metadata": {},
   "outputs": [
    {
     "data": {
      "text/plain": [
       "(2, True, 0, 1)"
      ]
     },
     "execution_count": 19,
     "metadata": {},
     "output_type": "execute_result"
    }
   ],
   "source": [
    "get_tag_id(raw_data)"
   ]
  },
  {
   "cell_type": "code",
   "execution_count": 20,
   "metadata": {},
   "outputs": [],
   "source": [
    "current_pos += 1\n",
    "data = raw_data[current_pos:]\n",
    "first_byte = data[0]\n"
   ]
  },
  {
   "cell_type": "code",
   "execution_count": 21,
   "metadata": {},
   "outputs": [
    {
     "data": {
      "text/plain": [
       "129"
      ]
     },
     "execution_count": 21,
     "metadata": {},
     "output_type": "execute_result"
    }
   ],
   "source": [
    "first_byte"
   ]
  },
  {
   "cell_type": "code",
   "execution_count": 22,
   "metadata": {},
   "outputs": [
    {
     "data": {
      "text/plain": [
       "1"
      ]
     },
     "execution_count": 22,
     "metadata": {},
     "output_type": "execute_result"
    }
   ],
   "source": [
    "first_byte >> BIT8_SHIFT"
   ]
  },
  {
   "cell_type": "code",
   "execution_count": 23,
   "metadata": {},
   "outputs": [
    {
     "data": {
      "text/plain": [
       "1"
      ]
     },
     "execution_count": 23,
     "metadata": {},
     "output_type": "execute_result"
    }
   ],
   "source": [
    "length_size = first_byte & 0x7F\n",
    "length_size"
   ]
  },
  {
   "cell_type": "code",
   "execution_count": 25,
   "metadata": {},
   "outputs": [
    {
     "data": {
      "text/plain": [
       "1"
      ]
     },
     "execution_count": 25,
     "metadata": {},
     "output_type": "execute_result"
    }
   ],
   "source": [
    "length_bytes = data[current_pos+1:current_pos+1+length_size]\n",
    "len(length_bytes)"
   ]
  },
  {
   "cell_type": "code",
   "execution_count": 27,
   "metadata": {},
   "outputs": [
    {
     "data": {
      "text/plain": [
       "162"
      ]
     },
     "execution_count": 27,
     "metadata": {},
     "output_type": "execute_result"
    }
   ],
   "source": [
    "length = 0\n",
    "for b in length_bytes:\n",
    "    length = (length << 8) | b\n",
    "length"
   ]
  },
  {
   "cell_type": "code",
   "execution_count": 28,
   "metadata": {},
   "outputs": [],
   "source": [
    "def getLength(data):\n",
    "    bytesConsumed = 1\n",
    "    first_byte = data[0]\n",
    "\n",
    "    # definite short form\n",
    "    if first_byte >> BIT8_SHIFT == 0:\n",
    "        return (first_byte, bytesConsumed)\n",
    "\n",
    "    length = 0\n",
    "    length_size = first_byte & BITS7_MASK\n",
    "\n",
    "    # indefinite form\n",
    "    if length_size == 0:\n",
    "        return (length_size, bytesConsumed)\n",
    "\n",
    "    # definite long form\n",
    "    for ptr in range(1, length_size + 1):\n",
    "        length = length * 256 + data[ptr]\n",
    "\n",
    "    bytesConsumed += length_size\n",
    "\n",
    "    return (length, bytesConsumed)\n"
   ]
  },
  {
   "cell_type": "code",
   "execution_count": 29,
   "metadata": {},
   "outputs": [
    {
     "data": {
      "text/plain": [
       "(191, 2)"
      ]
     },
     "execution_count": 29,
     "metadata": {},
     "output_type": "execute_result"
    }
   ],
   "source": [
    "getLength(data)"
   ]
  },
  {
   "cell_type": "code",
   "execution_count": null,
   "metadata": {},
   "outputs": [],
   "source": [
    "from dataclasses import dataclass\n",
    "from enum import Enum, auto\n",
    "from typing import Optional, Tuple\n",
    "from io import BufferedReader, BytesIO\n",
    "\n",
    "\n",
    "class BerClass(Enum):\n",
    "    UNIVERSAL = 0\n",
    "    APPLICATION = 1\n",
    "    CONTEXT = 2\n",
    "    PRIVATE = 3\n",
    "\n",
    "\n",
    "class BerTag:\n",
    "    def __init__(self, tag_bytes: bytes):\n",
    "        first_byte = tag_bytes[0]\n",
    "        self.tag_string = hexlify(tag_bytes[:1]).decode('utf-8') #This doesn't belong to the original ber encoding, it's specific to this implementation\n",
    "        self.tag_class = BerClass((first_byte >> 6) & 0x03)\n",
    "        self.constructed = bool((first_byte >> 5) & 0x01)\n",
    "        self.tag_number = first_byte & 0x1F\n",
    "\n",
    "        if self.tag_number == 0x1F:\n",
    "            # Handle multi-byte tag\n",
    "            self.tag_number = 0\n",
    "            for b in tag_bytes[1:]:\n",
    "                self.tag_number = (self.tag_number << 7) | (b & 0x7F)\n",
    "\n",
    "\n",
    "@dataclass\n",
    "class TlvObject:\n",
    "    \"\"\"Tag-Length-Value object for BER encoding\"\"\"\n",
    "\n",
    "    tag: BerTag\n",
    "    length: int\n",
    "    value: bytes\n",
    "    offset: int\n",
    "    children: list[\"TlvObject\"] = None\n",
    "\n",
    "\n",
    "class BerDecoder:\n",
    "    \"\"\"Basic Encoding Rules decoder\"\"\"\n",
    "\n",
    "    def __init__(self):\n",
    "        self.max_depth = None  # Prevent stack overflow\n",
    "\n",
    "    def decode_tlv(\n",
    "        self, stream: BufferedReader, offset: int = 0, depth: int = 0\n",
    "    ) -> Optional[TlvObject]:\n",
    "        if self.max_depth is not None and depth > self.max_depth:\n",
    "            raise ValueError(\"Maximum decoding depth exceeded\")\n",
    "\n",
    "        start_offset = offset\n",
    "        tag_bytes = self._read_tag(stream)\n",
    "        if not tag_bytes:\n",
    "            return None\n",
    "\n",
    "        tag = BerTag(tag_bytes)\n",
    "        length, length_size = self._read_length(stream)\n",
    "\n",
    "        # Update offset after tag and length\n",
    "        offset += len(tag_bytes) + length_size\n",
    "\n",
    "        # Read value\n",
    "        value = stream.read(length)\n",
    "        if len(value) != length:\n",
    "            raise ValueError(\"Unexpected end of data\")\n",
    "\n",
    "        tlv = TlvObject(tag, length, value, start_offset)\n",
    "\n",
    "        # Parse constructed types recursively\n",
    "        if tag.constructed:\n",
    "            tlv.children = []\n",
    "            value_stream = BufferedReader(BytesIO(value))\n",
    "            while value_stream.tell() < length:\n",
    "                if child := self.decode_tlv(value_stream, offset, depth + 1):\n",
    "                    tlv.children.append(child)\n",
    "                    offset += child.length\n",
    "\n",
    "        return tlv\n",
    "\n",
    "    def _read_tag(self, stream: BufferedReader) -> Optional[bytes]:\n",
    "        first_byte = stream.read(1)\n",
    "        if not first_byte:\n",
    "            return None\n",
    "\n",
    "        tag_bytes = bytearray(first_byte)\n",
    "        if (first_byte[0] & 0x1F) == 0x1F:\n",
    "            # Multi-byte tag\n",
    "            while True:\n",
    "                b = stream.read(1)\n",
    "                if not b:\n",
    "                    raise ValueError(\"Unexpected end of tag\")\n",
    "                tag_bytes.append(b[0])\n",
    "                if not (b[0] & 0x80):\n",
    "                    break\n",
    "\n",
    "        return bytes(tag_bytes)\n",
    "\n",
    "    def _read_length(self, stream: BufferedReader) -> Tuple[int, int]:\n",
    "        first_byte = stream.read(1)[0]\n",
    "        if not (first_byte & 0x80):\n",
    "            return first_byte, 1\n",
    "\n",
    "        length_size = first_byte & 0x7F\n",
    "        length_bytes = stream.read(length_size)\n",
    "        if len(length_bytes) != length_size:\n",
    "            raise ValueError(\"Unexpected end of length\")\n",
    "\n",
    "        length = 0\n",
    "        for b in length_bytes:\n",
    "            length = (length << 8) | b\n",
    "\n",
    "        return length, length_size + 1\n"
   ]
  },
  {
   "cell_type": "code",
   "execution_count": 55,
   "metadata": {},
   "outputs": [],
   "source": [
    "file_buffer = BufferedReader(file.open('rb'))"
   ]
  },
  {
   "cell_type": "code",
   "execution_count": 56,
   "metadata": {},
   "outputs": [],
   "source": [
    "ber = BerDecoder()"
   ]
  },
  {
   "cell_type": "code",
   "execution_count": 57,
   "metadata": {},
   "outputs": [],
   "source": [
    "tlv = ber.decode_tlv(file_buffer)"
   ]
  },
  {
   "cell_type": "code",
   "execution_count": 58,
   "metadata": {},
   "outputs": [
    {
     "data": {
      "text/plain": [
       "0"
      ]
     },
     "execution_count": 58,
     "metadata": {},
     "output_type": "execute_result"
    }
   ],
   "source": [
    "tlv.tag.tag_number"
   ]
  },
  {
   "cell_type": "code",
   "execution_count": 60,
   "metadata": {},
   "outputs": [
    {
     "data": {
      "text/plain": [
       "160"
      ]
     },
     "execution_count": 60,
     "metadata": {},
     "output_type": "execute_result"
    }
   ],
   "source": [
    "int('a0', 16)"
   ]
  },
  {
   "cell_type": "code",
   "execution_count": 59,
   "metadata": {},
   "outputs": [
    {
     "data": {
      "text/plain": [
       "('a0',\n",
       " 'CONTEXT',\n",
       " True,\n",
       " 0,\n",
       " 191,\n",
       " 0,\n",
       " 'a281bc9901018c04000000008903180c0e930f5a43544130395020425230303330388d03000000820316085a910200018a030b000f8b030b000f9f3002253f850741409388117108870d11550a230100003489181187f0940711550044010190860801230100000000f09f31052da020253f8407413429005221f0960734315457594d499f2c01309e01009f29037c3bac81037c3be283010180030002049801009001009b0202178e030000008f010088010295075a464e3341454f9a0136')"
      ]
     },
     "execution_count": 59,
     "metadata": {},
     "output_type": "execute_result"
    }
   ],
   "source": [
    "(\n",
    "    tlv.tag.tag_string,\n",
    "    tlv.tag.tag_class.name,\n",
    "    tlv.tag.constructed,\n",
    "    tlv.tag.tag_number,\n",
    "    tlv.length,\n",
    "    tlv.offset,\n",
    "    tlv.value.hex(),\n",
    ")"
   ]
  },
  {
   "cell_type": "code",
   "execution_count": 46,
   "metadata": {},
   "outputs": [
    {
     "data": {
      "text/plain": [
       "('CONTEXT',\n",
       " True,\n",
       " 2,\n",
       " 188,\n",
       " 3,\n",
       " '9901018c04000000008903180c0e930f5a43544130395020425230303330388d03000000820316085a910200018a030b000f8b030b000f9f3002253f850741409388117108870d11550a230100003489181187f0940711550044010190860801230100000000f09f31052da020253f8407413429005221f0960734315457594d499f2c01309e01009f29037c3bac81037c3be283010180030002049801009001009b0202178e030000008f010088010295075a464e3341454f9a0136')"
      ]
     },
     "execution_count": 46,
     "metadata": {},
     "output_type": "execute_result"
    }
   ],
   "source": [
    "(\n",
    "    tlv.children[0].tag.tag_class.name,\n",
    "    tlv.children[0].tag.constructed,\n",
    "    tlv.children[0].tag.tag_number,\n",
    "    tlv.children[0].length,\n",
    "    tlv.children[0].offset,\n",
    "    tlv.children[0].value.hex(),\n",
    ")"
   ]
  },
  {
   "cell_type": "code",
   "execution_count": 165,
   "metadata": {},
   "outputs": [
    {
     "data": {
      "text/plain": [
       "[TlvObject(tag=<__main__.BerTag object at 0x0000021E8A8D49B0>, length=1, value=b'\\x01', offset=6, children=None),\n",
       " TlvObject(tag=<__main__.BerTag object at 0x0000021E8A8D4FE0>, length=4, value=b'\\x00\\x00\\x00\\x00', offset=7, children=None),\n",
       " TlvObject(tag=<__main__.BerTag object at 0x0000021E8A8D5AC0>, length=3, value=b'\\x18\\x0c\\x0e', offset=11, children=None),\n",
       " TlvObject(tag=<__main__.BerTag object at 0x0000021E8A8D5A00>, length=15, value=b'ZCTA09P BR00308', offset=14, children=None),\n",
       " TlvObject(tag=<__main__.BerTag object at 0x0000021E8A8D45F0>, length=3, value=b'\\x00\\x00\\x00', offset=29, children=None),\n",
       " TlvObject(tag=<__main__.BerTag object at 0x0000021E8A8D7A70>, length=3, value=b'\\x16\\x08Z', offset=32, children=None),\n",
       " TlvObject(tag=<__main__.BerTag object at 0x0000021E8A8D5610>, length=2, value=b'\\x00\\x01', offset=35, children=None),\n",
       " TlvObject(tag=<__main__.BerTag object at 0x0000021E8A8D4B00>, length=3, value=b'\\x0b\\x00\\x0f', offset=37, children=None),\n",
       " TlvObject(tag=<__main__.BerTag object at 0x0000021E8A8F6300>, length=3, value=b'\\x0b\\x00\\x0f', offset=40, children=None),\n",
       " TlvObject(tag=<__main__.BerTag object at 0x0000021E8A8F4A40>, length=2, value=b'%?', offset=43, children=None),\n",
       " TlvObject(tag=<__main__.BerTag object at 0x0000021E8A8F6810>, length=7, value=b'A@\\x93\\x88\\x11q\\x08', offset=45, children=None),\n",
       " TlvObject(tag=<__main__.BerTag object at 0x0000021E8A71D2B0>, length=13, value=b'\\x11U\\n#\\x01\\x00\\x004\\x89\\x18\\x11\\x87\\xf0', offset=52, children=None),\n",
       " TlvObject(tag=<__main__.BerTag object at 0x0000021E8A7F8D70>, length=7, value=b'\\x11U\\x00D\\x01\\x01\\x90', offset=65, children=None),\n",
       " TlvObject(tag=<__main__.BerTag object at 0x0000021E8A972270>, length=8, value=b'\\x01#\\x01\\x00\\x00\\x00\\x00\\xf0', offset=72, children=None),\n",
       " TlvObject(tag=<__main__.BerTag object at 0x0000021E8A9727B0>, length=5, value=b'-\\xa0 %?', offset=80, children=None),\n",
       " TlvObject(tag=<__main__.BerTag object at 0x0000021E8A971E50>, length=7, value=b'A4)\\x00R!\\xf0', offset=85, children=None),\n",
       " TlvObject(tag=<__main__.BerTag object at 0x0000021E8A971AF0>, length=7, value=b'41TWYMI', offset=92, children=None),\n",
       " TlvObject(tag=<__main__.BerTag object at 0x0000021E8A973BC0>, length=1, value=b'0', offset=99, children=None),\n",
       " TlvObject(tag=<__main__.BerTag object at 0x0000021E8A971A30>, length=1, value=b'\\x00', offset=100, children=None),\n",
       " TlvObject(tag=<__main__.BerTag object at 0x0000021E8A970CB0>, length=3, value=b'|;\\xac', offset=101, children=None),\n",
       " TlvObject(tag=<__main__.BerTag object at 0x0000021E8A971B20>, length=3, value=b'|;\\xe2', offset=104, children=None),\n",
       " TlvObject(tag=<__main__.BerTag object at 0x0000021E8A96EC90>, length=1, value=b'\\x01', offset=107, children=None),\n",
       " TlvObject(tag=<__main__.BerTag object at 0x0000021E8A96E7E0>, length=3, value=b'\\x00\\x02\\x04', offset=108, children=None),\n",
       " TlvObject(tag=<__main__.BerTag object at 0x0000021E8A96DD00>, length=1, value=b'\\x00', offset=111, children=None),\n",
       " TlvObject(tag=<__main__.BerTag object at 0x0000021E8A96E030>, length=1, value=b'\\x00', offset=112, children=None),\n",
       " TlvObject(tag=<__main__.BerTag object at 0x0000021E8A96E1E0>, length=2, value=b'\\x02\\x17', offset=113, children=None),\n",
       " TlvObject(tag=<__main__.BerTag object at 0x0000021E8A96C6B0>, length=3, value=b'\\x00\\x00\\x00', offset=115, children=None),\n",
       " TlvObject(tag=<__main__.BerTag object at 0x0000021E8A96FAA0>, length=1, value=b'\\x00', offset=118, children=None),\n",
       " TlvObject(tag=<__main__.BerTag object at 0x0000021E8A96C620>, length=1, value=b'\\x02', offset=119, children=None),\n",
       " TlvObject(tag=<__main__.BerTag object at 0x0000021E8A96CFE0>, length=7, value=b'ZFN3AEO', offset=120, children=None),\n",
       " TlvObject(tag=<__main__.BerTag object at 0x0000021E8A96FA40>, length=1, value=b'6', offset=127, children=None)]"
      ]
     },
     "execution_count": 165,
     "metadata": {},
     "output_type": "execute_result"
    }
   ],
   "source": [
    "tlv.children[0].children"
   ]
  },
  {
   "cell_type": "code",
   "execution_count": 49,
   "metadata": {},
   "outputs": [
    {
     "data": {
      "text/plain": [
       "89"
      ]
     },
     "execution_count": 49,
     "metadata": {},
     "output_type": "execute_result"
    }
   ],
   "source": [
    "int(\"59\", 16)"
   ]
  },
  {
   "cell_type": "code",
   "execution_count": 47,
   "metadata": {},
   "outputs": [
    {
     "name": "stdout",
     "output_type": "stream",
     "text": [
      "CONTEXT False 25 1 01\n",
      "CONTEXT False 12 4 00000000\n",
      "CONTEXT False 9 3 180c0e\n",
      "CONTEXT False 19 15 5a4354413039502042523030333038\n",
      "CONTEXT False 13 3 000000\n",
      "CONTEXT False 2 3 16085a\n",
      "CONTEXT False 17 2 0001\n",
      "CONTEXT False 10 3 0b000f\n",
      "CONTEXT False 11 3 0b000f\n",
      "CONTEXT False 48 2 253f\n",
      "CONTEXT False 5 7 41409388117108\n",
      "CONTEXT False 7 13 11550a230100003489181187f0\n",
      "CONTEXT False 20 7 11550044010190\n",
      "CONTEXT False 6 8 01230100000000f0\n",
      "CONTEXT False 49 5 2da020253f\n",
      "CONTEXT False 4 7 413429005221f0\n",
      "CONTEXT False 22 7 34315457594d49\n",
      "CONTEXT False 44 1 30\n",
      "CONTEXT False 30 1 00\n",
      "CONTEXT False 41 3 7c3bac\n",
      "CONTEXT False 1 3 7c3be2\n",
      "CONTEXT False 3 1 01\n",
      "CONTEXT False 0 3 000204\n",
      "CONTEXT False 24 1 00\n",
      "CONTEXT False 16 1 00\n",
      "CONTEXT False 27 2 0217\n",
      "CONTEXT False 14 3 000000\n",
      "CONTEXT False 15 1 00\n",
      "CONTEXT False 8 1 02\n",
      "CONTEXT False 21 7 5a464e3341454f\n",
      "CONTEXT False 26 1 36\n"
     ]
    }
   ],
   "source": [
    "for c in tlv.children[0].children:\n",
    "    print(c.tag.tag_class.name, c.tag.constructed, c.tag.tag_number, c.length, c.value.hex())"
   ]
  },
  {
   "cell_type": "code",
   "execution_count": 109,
   "metadata": {},
   "outputs": [
    {
     "data": {
      "text/plain": [
       "(3, 11)"
      ]
     },
     "execution_count": 109,
     "metadata": {},
     "output_type": "execute_result"
    }
   ],
   "source": [
    "c.length, c.offset"
   ]
  },
  {
   "cell_type": "code",
   "execution_count": 110,
   "metadata": {},
   "outputs": [
    {
     "data": {
      "text/plain": [
       "(b'\\x18\\x0c\\x0e', '180c0e')"
      ]
     },
     "execution_count": 110,
     "metadata": {},
     "output_type": "execute_result"
    }
   ],
   "source": [
    "c.value, c.value.hex()"
   ]
  },
  {
   "cell_type": "code",
   "execution_count": null,
   "metadata": {},
   "outputs": [],
   "source": []
  }
 ],
 "metadata": {
  "kernelspec": {
   "display_name": ".venv",
   "language": "python",
   "name": "python3"
  },
  "language_info": {
   "codemirror_mode": {
    "name": "ipython",
    "version": 3
   },
   "file_extension": ".py",
   "mimetype": "text/x-python",
   "name": "python",
   "nbconvert_exporter": "python",
   "pygments_lexer": "ipython3",
   "version": "3.12.0"
  }
 },
 "nbformat": 4,
 "nbformat_minor": 2
}
