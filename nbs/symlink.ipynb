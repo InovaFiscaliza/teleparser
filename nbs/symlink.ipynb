{
 "cells": [
  {
   "cell_type": "code",
   "execution_count": 1,
   "id": "c454ed04",
   "metadata": {},
   "outputs": [],
   "source": [
    "from fastcore.xtras import Path"
   ]
  },
  {
   "cell_type": "code",
   "execution_count": 6,
   "id": "b8f47c67",
   "metadata": {},
   "outputs": [],
   "source": [
    "source = Path(\"/mnt/wifiprtitsin06/g/Monitoramento/InformaçõesRecebidasPrestadoras/\")\n",
    "destination = Path(\"/home/rsilva/repositorios/teleparser/data/vm_win\")"
   ]
  },
  {
   "cell_type": "code",
   "execution_count": 10,
   "id": "4b3e874e",
   "metadata": {},
   "outputs": [],
   "source": [
    "for semana in source.ls():\n",
    "    if semana.is_dir() and semana.name.lower().startswith(\"semana\"):\n",
    "        for prestadora in semana.ls():\n",
    "            if prestadora.is_dir():\n",
    "                destination_semana = destination / semana.name\n",
    "                if prestadora.name.lower().startswith(\"claro\"):\n",
    "                    dest_prestadora = destination_semana / \"claro\"\n",
    "                    dest_prestadora.mkdir(parents=True, exist_ok=True)\n",
    "                    for tecnologia in prestadora.ls():\n",
    "                        if tecnologia.is_dir():\n",
    "                            if \"_4G_\" in tecnologia.name:\n",
    "                                (dest_prestadora / \"volte\" ).symlink_to(tecnologia)\n",
    "                            if \"_ERICSSON_\" in tecnologia.name:\n",
    "                                (dest_prestadora / \"ericsson\" ).symlink_to(tecnologia)\n",
    "                            if \"_NOKIA_\" in tecnologia.name:\n",
    "                                (dest_prestadora / \"nokia\" ).symlink_to(tecnologia)\n",
    "                elif prestadora.name.lower().startswith(\"vivo\"):\n",
    "                    dest_prestadora = destination_semana / \"vivo\"\n",
    "                    dest_prestadora.mkdir(parents=True, exist_ok=True)\n",
    "                    for tecnologia in prestadora.ls():\n",
    "                        if tecnologia.is_dir():\n",
    "                            if tecnologia.name.endswith(\"CDR\"):\n",
    "                                (dest_prestadora / \"ericsson\" ).symlink_to(tecnologia)\n",
    "                elif prestadora.name.lower().startswith(\"tim\"):\n",
    "                    dest_prestadora = destination_semana / \"tim\"\n",
    "                    dest_prestadora.mkdir(parents=True, exist_ok=True)\n",
    "                    for tecnologia in prestadora.ls():\n",
    "                        if tecnologia.is_dir():\n",
    "                            if tecnologia.name.endswith(\"GSM\"):\n",
    "                                (dest_prestadora / \"ericsson\" ).symlink_to(tecnologia)\n",
    "                            if tecnologia.name.endswith(\"VOLTE\"):\n",
    "                                (dest_prestadora / \"volte\" ).symlink_to(tecnologia)\n"
   ]
  },
  {
   "cell_type": "code",
   "execution_count": null,
   "id": "b5bfa026",
   "metadata": {},
   "outputs": [],
   "source": []
  }
 ],
 "metadata": {
  "kernelspec": {
   "display_name": "teleparser",
   "language": "python",
   "name": "python3"
  },
  "language_info": {
   "codemirror_mode": {
    "name": "ipython",
    "version": 3
   },
   "file_extension": ".py",
   "mimetype": "text/x-python",
   "name": "python",
   "nbconvert_exporter": "python",
   "pygments_lexer": "ipython3",
   "version": "3.13.3"
  }
 },
 "nbformat": 4,
 "nbformat_minor": 5
}
