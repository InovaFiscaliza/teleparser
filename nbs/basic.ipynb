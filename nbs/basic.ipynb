{
 "cells": [
  {
   "cell_type": "code",
   "execution_count": 1,
   "metadata": {},
   "outputs": [
    {
     "data": {
      "text/plain": [
       "(#6) [Path('/home/rsilva/repositorios/teleparser/data/claro_volte'),Path('/home/rsilva/repositorios/teleparser/data/Exemplo-ECSCF-CDR.TXT'),Path('/home/rsilva/repositorios/teleparser/data/Exemplo-IBCF - CDR.TXT'),Path('/home/rsilva/repositorios/teleparser/data/IPBSA1ECSCF.202503181503566470'),Path('/home/rsilva/repositorios/teleparser/data/IPBSA1ECSCF.202503181727526053_NOK'),Path('/home/rsilva/repositorios/teleparser/data/SBC_TIM.asn')]"
      ]
     },
     "execution_count": 1,
     "metadata": {},
     "output_type": "execute_result"
    }
   ],
   "source": [
    "from fastcore.xtras import Path\n",
    "import asn1tools\n",
    "\n",
    "folder = Path(\"/home/rsilva/repositorios/teleparser/data\")\n",
    "folder.ls()"
   ]
  },
  {
   "cell_type": "code",
   "execution_count": null,
   "metadata": {},
   "outputs": [],
   "source": [
    "from collections import namedtuple\n",
    "from dataclasses import dataclass\n",
    "from typing import Optional, Tuple, Callable\n",
    "from io import BufferedReader, BytesIO\n",
    "from tqdm.auto import tqdm  # Use standard tqdm for compatibility with nesting\n",
    "# Basic ASN.1 Reference\n",
    "# https://luca.ntop.org/Teaching/Appunti/asn1.html\n",
    "\n",
    "\n",
    "CLASS_SHIFT = 6\n",
    "TWO_BIT_MASK = 3\n",
    "ENCODE_SHIFT = 5\n",
    "MODULO_2 = 1\n",
    "CLASSNUM_MASK = 31\n",
    "MASK_BIT7 = 127\n",
    "SHIFT_7 = 7\n",
    "HIGH_CLASS_NUM = 31\n",
    "MASK_BIT8 = 128\n",
    "SHIFT_8 = 8\n",
    "\n",
    "\n",
    "# BerClass\n",
    "UNIVERSAL = 0\n",
    "APPLICATION = 1\n",
    "CONTEXT = 2\n",
    "PRIVATE = 3\n",
    "\n",
    "\n",
    "EOC = {} #(0, False, 0, 0), (2, True, 1, 0)}\n",
    "\n",
    "\n",
    "BerTag = namedtuple(\"BerTag\", [\"tag_class\", \"constructed\", \"number\"])\n",
    "\n",
    "\n",
    "@dataclass\n",
    "class BerDecoder:\n",
    "    \"\"\"Basic Encoding Rules decoder\"\"\"\n",
    "\n",
    "    buffer_manager: Optional[BufferedReader] = None\n",
    "\n",
    "    @staticmethod\n",
    "    def decode_tag(tag_bytes: bytes):\n",
    "        first_byte = tag_bytes[0]\n",
    "        tag_class = (first_byte >> CLASS_SHIFT) & TWO_BIT_MASK\n",
    "        constructed = ((first_byte >> ENCODE_SHIFT) & MODULO_2) == 1\n",
    "        number = first_byte & CLASSNUM_MASK\n",
    "\n",
    "        if number == CLASSNUM_MASK:\n",
    "            # Handle multi-byte tag\n",
    "            number = 0\n",
    "            for b in tag_bytes[1:]:\n",
    "                number = (number << SHIFT_7) | (b & MASK_BIT7)\n",
    "                if b >> SHIFT_7 == 0:\n",
    "                    break\n",
    "\n",
    "        return BerTag(tag_class, constructed, number)\n",
    "\n",
    "    @staticmethod\n",
    "    def _reached_eoc(tag: BerTag, length: int):\n",
    "        return (tag.tag_class, tag.constructed, tag.number, length) in EOC\n",
    "\n",
    "    def decode(\n",
    "        self,\n",
    "        stream: BufferedReader | BytesIO,\n",
    "        offset: int = 0,\n",
    "        depth: int = 0,\n",
    "        schema: dict | None = None,\n",
    "    ):\n",
    "        if (tag_bytes := self._read_tag(stream)) is None:\n",
    "            return None\n",
    "\n",
    "        tag = self.decode_tag(tag_bytes)\n",
    "        length, length_size = self._read_length(stream)\n",
    "        offset += len(tag_bytes) + length_size\n",
    "\n",
    "        if self._reached_eoc(tag, length) or length == 0:\n",
    "            return self.decode(stream, offset, depth, schema)\n",
    "        # Read value\n",
    "        value = stream.read(length)\n",
    "        if len(value) != length:\n",
    "            raise ValueError(\"Unexpected end of data\")\n",
    "        \n",
    "        return tag, length, value\n",
    "\n",
    "    @staticmethod\n",
    "    def _read_tag(stream: BufferedReader) -> Optional[bytes]:\n",
    "        first_byte = stream.read(1)  # index makes a converted to int\n",
    "        if not first_byte:\n",
    "            return None\n",
    "\n",
    "        tag_byte = first_byte\n",
    "        if int.from_bytes(tag_byte, \"big\") & HIGH_CLASS_NUM == HIGH_CLASS_NUM:\n",
    "            # Multi-byte tag\n",
    "            while True:\n",
    "                b = stream.read(1)\n",
    "                if not b:\n",
    "                    raise ValueError(\"Unexpected end of tag\")\n",
    "                tag_byte += b\n",
    "                if int.from_bytes(b, \"big\") & MASK_BIT8 == 0:\n",
    "                    break\n",
    "\n",
    "        return tag_byte\n",
    "\n",
    "    @staticmethod\n",
    "    def _read_length(stream: BufferedReader) -> Tuple[int, int]:\n",
    "        first_byte = stream.read(1)[0]\n",
    "        # definite short form\n",
    "        if first_byte >> SHIFT_7 == 0:\n",
    "            return first_byte, 1\n",
    "\n",
    "        length = 0\n",
    "        length_size = first_byte & MASK_BIT7\n",
    "        # indefinite form\n",
    "        if length_size == 0:\n",
    "            return 0, 1\n",
    "\n",
    "        length_bytes = stream.read(length_size)\n",
    "        if len(length_bytes) != length_size:\n",
    "            raise ValueError(\"Unexpected end of length\")\n",
    "\n",
    "        #  definite long form\n",
    "        #  When iterating on bytes it's already converted to int\n",
    "        for b in length_bytes:\n",
    "            length = (length << SHIFT_8) | b\n",
    "\n",
    "        return length, length_size + 1\n",
    "\n",
    "    def parse_blocks(self):\n",
    "        with self.buffer_manager.open() as file_buffer:\n",
    "            while (tlv := self.decode(file_buffer)) is not None:\n",
    "                yield tlv\n",
    "\n",
    "    def process(self):\n",
    "        \"\"\"Process the BER data and return a list of parsed blocks.\"\"\"\n",
    "        return list(\n",
    "            tqdm(self.parse_blocks(), desc=\"Parsing TLVs\", unit=\" block\", leave=False)\n",
    "        )\n",
    "\n",
    "    @property\n",
    "    def transform_func(self):  # Just a placeholder for compatibility\n",
    "        return None\n"
   ]
  },
  {
   "cell_type": "code",
   "execution_count": 13,
   "metadata": {},
   "outputs": [],
   "source": [
    "sbc_tim_der = asn1tools.compile_files(f'{folder}/SBC_TIM.asn', codec='der')\n",
    "sbc_tim_ber = asn1tools.compile_files(f\"{folder}/SBC_TIM.asn\", codec=\"ber\")\n"
   ]
  },
  {
   "cell_type": "code",
   "execution_count": 29,
   "metadata": {},
   "outputs": [
    {
     "data": {
      "text/plain": [
       "dict_keys(['IMSRecord', 'SCSCFRecord', 'PCSCFRecord', 'ICSCFRecord', 'MRFCRecord', 'MGCFRecord', 'BGCFRecord', 'IBCFRecord', 'AGCFRecord', 'ATSRecord', 'SCP-Connection', 'VCCASRecord', 'VideoASRecord', 'ALUCTSRecord', 'MediaXRecord', 'ConferenceASRecord', 'CentrexASRecord', 'SBCRecord', 'RCSRecord', 'ECSCFRecord', 'RecordType', 'NodeAddress', 'IPAddress', 'IPBinaryAddress', 'IPTextRepresentedAddress', 'TimeStamp', 'LocalSequenceNumber', 'UnsignedInter32', 'UnsignedInter64', 'ServiceContextID', 'Service-Identifier', 'Service-Indetity', 'SubscriptionID', 'SubscriptionIDType', 'ManagementExtensions', 'ManagementExtension', 'S-CSCF-Information', 'ServiceSpecificInfo', 'AccessCorrelationID', 'ACRInterimLost', 'ApplicationServersInformation', 'CarrierSelectRouting', 'CauseForRecordClosing', 'Early-Media-Components-List', 'IMS-Charging-Identifier', 'IMSCommunicationServiceIdentifier', 'Incomplete-CDR-Indication', 'InterOperatorIdentifierlist', 'InterOperatorIdentifiers', 'InvolvedParty', 'ListOfInvolvedParties', 'Media-Components-List', 'SDP-Type', 'Media-Components-List-Centrex', 'MessageBody', 'NumberPortabilityRouting', 'Role-of-Node', 'SDP-Media-Component', 'SDP-Media-Description', 'ServedPartyIPAddress', 'Service-Id', 'Session-Id', 'SIP-Method', 'TransmissionMedium', 'TrunkGroupID', 'Online-Charging-Type', 'Session-Priority', 'Abnormal-Finish-Info', 'Interworking-Signaling-Address', 'NP-Data', 'Location-Information', 'NP-Query', 'Supplementary-Service', 'Service-Type', 'Supp-Service-Mode', 'Supp-Action', 'Precedence-Level', 'ALU-Call-Direction', 'ALU-Call-Type', 'ALU-Mobile-ID', 'AIN-Information', 'Caller-Info', 'Callee-Info', 'AD-Information', 'VideoGate-Information', 'PushMessage-Information', 'WebOnPhone-Information', 'Type-Of-Charging', 'Level', 'Operation-SuccessFlag', 'Push-SuccessFlag', 'Bill-Type', 'MediaX-conference-Information', 'MediaX-User-Information', 'MediaX-Terminal-Information', 'Logic-Resource', 'Closed-Code', 'Terminal-Type', 'Main-Screen-Entrance-Type', 'MediaX-Type', 'Meeting-Frequency', 'Meeting-Mode', 'Service-Mode', 'Port-Type', 'End-Code', 'User-Category', 'Port-Media-Type', 'DiversionReason', 'ChargingCategory', 'Caller-Originating-Domain', 'CS-Location', 'User-SIP-URI', 'Application-Servers-Abnormal', 'Service-Context-Id', 'Message-Feature-ID', 'ListOfSDPMediaComponents', 'Media-Components-List-Centrex-test', 'ListOfSDPMediaComponentsATS', 'Media-Components-List-ATS-test', 'VPNCallProperty', 'SDP-Media-Identifier', 'RST-Information', 'RST-Server-Role', 'RST-Session-Type', 'RST-Subscriber-ID', 'Call-Description', 'PSTN-CDR-Info', 'Call-Party-Number-Type', 'Calling-Party-Category', 'SMS-Information', 'SMS-Result', 'Data-Coding-Scheme', 'Delivery-Code', 'Operate', 'Operated', 'Number-to-Operate', 'Number-of-Operated', 'IMPU', 'Stream-Exchange', 'Stream-Type', 'Direction', 'Volume', 'Conference-Session-Information', 'Duration', 'Conference-Session-Type', 'Number-Of-Participants', 'Participant', 'Conference-Server-Role', 'Call-In-Out', 'MMTelInformation', 'SupplService', 'ServiceType', 'ServiceMode', 'SubscriberRole', 'ParticipantActionType', 'TrunkGroupIBCF', 'Milliseconds', 'Charging-Complaint', 'Call-Watch-Flag', 'TADS-Indication', 'CS-Location-Information', 'LocationAreaCode', 'CellId', 'ServiceAreaCode', 'AOCParameters', 'IN-Information', 'Level-Of-Camel-Service', 'Camel-Destination-Number-Type', 'Fci-Free-Format-Data-Manner', 'Default-Call-Handling', 'Called-User', 'Change-Of-Location', 'Private-User-Equipment-Info', 'Private-User-Equipment-Info-Type', 'Private-ConnectTime', 'Call-Transfer-Info', 'Call-Transfer-Type', 'Call-Transfer-Info-List', 'Drvcc-Type', 'DRVCC-Info', 'SubscriberEquipmentNumber', 'SubscriberEquipmentType', 'Business-Trunking-Indication', 'Es-Service-Information', 'Service-Interact-Info', 'NNI-Information', 'NNIType', 'SpecifiedTreatmentField', 'IsVolte-Call-Type', 'Roam-Type', 'Fail-AS-Addr', 'SIP-Diversion', 'Attendee'])"
      ]
     },
     "execution_count": 29,
     "metadata": {},
     "output_type": "execute_result"
    }
   ],
   "source": [
    "sbc_tim_der.types.keys()"
   ]
  },
  {
   "cell_type": "code",
   "execution_count": 6,
   "metadata": {},
   "outputs": [],
   "source": [
    "example_1 = (folder / 'IPBSA1ECSCF.202503181503566470').read_bytes()"
   ]
  },
  {
   "cell_type": "code",
   "execution_count": 76,
   "metadata": {},
   "outputs": [],
   "source": [
    "from teleparser.buffer import BufferManager\n",
    "file_path = Path(folder / \"IPBSA1ECSCF.202503181503566470\")"
   ]
  },
  {
   "cell_type": "code",
   "execution_count": 77,
   "metadata": {},
   "outputs": [],
   "source": [
    "ber = BerDecoder(None)"
   ]
  },
  {
   "cell_type": "code",
   "execution_count": 78,
   "metadata": {},
   "outputs": [
    {
     "ename": "OverflowError",
     "evalue": "cannot fit 'int' into an index-sized integer",
     "output_type": "error",
     "traceback": [
      "\u001b[31m---------------------------------------------------------------------------\u001b[39m",
      "\u001b[31mOverflowError\u001b[39m                             Traceback (most recent call last)",
      "\u001b[36mCell\u001b[39m\u001b[36m \u001b[39m\u001b[32mIn[78]\u001b[39m\u001b[32m, line 2\u001b[39m\n\u001b[32m      1\u001b[39m \u001b[38;5;28;01mwith\u001b[39;00m \u001b[38;5;28mopen\u001b[39m(file_path, \u001b[33m\"\u001b[39m\u001b[33mrb\u001b[39m\u001b[33m\"\u001b[39m) \u001b[38;5;28;01mas\u001b[39;00m f:\n\u001b[32m----> \u001b[39m\u001b[32m2\u001b[39m     \u001b[38;5;28;01mwhile\u001b[39;00m (tlv := \u001b[43mber\u001b[49m\u001b[43m.\u001b[49m\u001b[43mdecode\u001b[49m\u001b[43m(\u001b[49m\u001b[43mf\u001b[49m\u001b[43m)\u001b[49m) \u001b[38;5;129;01mis\u001b[39;00m \u001b[38;5;129;01mnot\u001b[39;00m \u001b[38;5;28;01mNone\u001b[39;00m:\n\u001b[32m      3\u001b[39m         \u001b[38;5;28mprint\u001b[39m(tlv)\n",
      "\u001b[36mCell\u001b[39m\u001b[36m \u001b[39m\u001b[32mIn[69]\u001b[39m\u001b[32m, line 78\u001b[39m, in \u001b[36mBerDecoder.decode\u001b[39m\u001b[34m(self, stream, offset, depth, schema)\u001b[39m\n\u001b[32m     75\u001b[39m offset += \u001b[38;5;28mlen\u001b[39m(tag_bytes) + length_size\n\u001b[32m     77\u001b[39m \u001b[38;5;28;01mif\u001b[39;00m \u001b[38;5;28mself\u001b[39m._reached_eoc(tag, length) \u001b[38;5;129;01mor\u001b[39;00m length == \u001b[32m0\u001b[39m:\n\u001b[32m---> \u001b[39m\u001b[32m78\u001b[39m     \u001b[38;5;28;01mreturn\u001b[39;00m \u001b[38;5;28;43mself\u001b[39;49m\u001b[43m.\u001b[49m\u001b[43mdecode\u001b[49m\u001b[43m(\u001b[49m\u001b[43mstream\u001b[49m\u001b[43m,\u001b[49m\u001b[43m \u001b[49m\u001b[43moffset\u001b[49m\u001b[43m,\u001b[49m\u001b[43m \u001b[49m\u001b[43mdepth\u001b[49m\u001b[43m,\u001b[49m\u001b[43m \u001b[49m\u001b[43mschema\u001b[49m\u001b[43m)\u001b[49m\n\u001b[32m     79\u001b[39m \u001b[38;5;66;03m# Read value\u001b[39;00m\n\u001b[32m     80\u001b[39m value = stream.read(length)\n",
      "\u001b[36mCell\u001b[39m\u001b[36m \u001b[39m\u001b[32mIn[69]\u001b[39m\u001b[32m, line 80\u001b[39m, in \u001b[36mBerDecoder.decode\u001b[39m\u001b[34m(self, stream, offset, depth, schema)\u001b[39m\n\u001b[32m     78\u001b[39m     \u001b[38;5;28;01mreturn\u001b[39;00m \u001b[38;5;28mself\u001b[39m.decode(stream, offset, depth, schema)\n\u001b[32m     79\u001b[39m \u001b[38;5;66;03m# Read value\u001b[39;00m\n\u001b[32m---> \u001b[39m\u001b[32m80\u001b[39m value = \u001b[43mstream\u001b[49m\u001b[43m.\u001b[49m\u001b[43mread\u001b[49m\u001b[43m(\u001b[49m\u001b[43mlength\u001b[49m\u001b[43m)\u001b[49m\n\u001b[32m     81\u001b[39m \u001b[38;5;28;01mif\u001b[39;00m \u001b[38;5;28mlen\u001b[39m(value) != length:\n\u001b[32m     82\u001b[39m     \u001b[38;5;28;01mraise\u001b[39;00m \u001b[38;5;167;01mValueError\u001b[39;00m(\u001b[33m\"\u001b[39m\u001b[33mUnexpected end of data\u001b[39m\u001b[33m\"\u001b[39m)\n",
      "\u001b[31mOverflowError\u001b[39m: cannot fit 'int' into an index-sized integer"
     ]
    }
   ],
   "source": [
    "with open(file_path, \"rb\") as f:\n",
    "    while (tlv := ber.decode(f)) is not None:\n",
    "        print(tlv)"
   ]
  },
  {
   "cell_type": "code",
   "execution_count": 47,
   "metadata": {},
   "outputs": [
    {
     "data": {
      "text/plain": [
       "b'sip:+5567981331013@ims.tim.br'"
      ]
     },
     "execution_count": 47,
     "metadata": {},
     "output_type": "execute_result"
    }
   ],
   "source": [
    "example_1[544:573]"
   ]
  },
  {
   "cell_type": "code",
   "execution_count": 49,
   "metadata": {},
   "outputs": [
    {
     "name": "stdout",
     "output_type": "stream",
     "text": [
      "138\n"
     ]
    }
   ],
   "source": [
    "for i, b in enumerate(example_1):\n",
    "    if b == 31:\n",
    "        print(i)\n",
    "        break"
   ]
  },
  {
   "cell_type": "code",
   "execution_count": 68,
   "metadata": {},
   "outputs": [
    {
     "data": {
      "text/plain": [
       "b'\\x00\\x00\\x14\\xbc\\x00\\x00\\x002\\xa2\\xa29<\\x10\\xc09<0\\xc0\\x00\\x00\\x00\\r\\x00\\x00\\x19F\\x02\\n.\\xb2S\\x00\\x00\\x00\\x00\\x00\\x00\\x00\\x00\\x00\\x00\\x00\\x00\\x00\\x00\\x00\\x00\\x00\\x00\\x00\\x01q\\xa2)\\xbfF\\x82\\x01l\\x80\\x01F\\x82\\x06UPDATE\\x83\\x01\\x00\\xa4\\x1c\\x81\\x1aIPBSA1-ECSCF-01.ims.tim.br\\x85 sbcthLNQN0kRyHVFPeb69xXCm2yiQOE5\\xa6\\x1f\\x80\\x1dsip:+5585999583692@ims.tim.br\\xa7\\t\\x81\\x07tel:188\\x89\\t%\\x03\\x18\\x14DV-\\x03\\x00\\x8a\\t%\\x03\\x18\\x14DV-\\x03\\x00\\x8c\\t%\\x03\\x18\\x14YV-\\x03\\x00\\x8d\\t%\\x03\\x18\\x14YV-\\x03\\x00\\x8f\\x05\\x00\\xb3\" \\x1a\\x90\\x01\\x04\\x91\\x01\\x03\\xb2\\t\\x80\\x01\\xff\\x81\\x01\\x01\\x82\\x01\\xff\\x93%BSA1-PCSCF-01.194.f2ae.20250318171450\\x9dE3GPP-E-UTRAN-FDD;utran-cell-id-3gpp=724048D5061D2983;network-provided\\xbf\\x1f\\x161\\x14\\x80\\x01\\x01\\x81\\x0f724028203713506\\x9f%\\x02\\x015\\x9f&\\x02\\x015\\xbf:\\x14\\x80\\x01\\x00\\x81\\x0f35692579-159293\\x9f\\x81H\\x02\\x03\\x84\\x01\\xb8\\xa2)\\xbfF\\x82\\x01\\xb3\\x80\\x01F\\x82\\x03BYE\\x83\\x01\\x00\\xa4\\x1c\\x81\\x1aIPBSA1-ECSCF-01.ims.tim.br\\x85AsbcthLNQeQ2MpmpN_E9sv03ZZccAA3..@acIn:aBn:cBVH:xacp:B:a:pn6n:aLnA\\xa6\\x1f\\x80\\x1dsip:+5567981331013@ims.tim.br\\xa7\\t\\x81\\x07tel:190\\x89\\t%\\x03\\x18\\x15\\x014-\\x03\\x00\\x8a\\t%\\x03\\x18\\x15\\x01@-\\x03\\x00\\x8b\\t%\\x03\\x18\\x15\\x01W-\\x03\\x00\\x8c\\t%\\x03\\x18\\x15\\x01@-\\x03\\x00\\x8d\\t%\\x03\\x18\\x15\\x01W-\\x03\\x00\\x8f\\x05\\x00\\xb3\"\"\\xff\\x91\\x01\\x00\\xb2\\t\\x80\\x01\\x00\\x81\\x01\\x00\\x82\\x01\\x00\\x93%BSA1-PCSCF-01.1b2.69c6.20250318180134\\x97\\x010\\x9dE3GPP-E-UTRAN-FDD;utran-cell-id-3gpp=724048F90676EC82;network-provided\\xbf\\x1f,1\\x14\\x80\\x01\\x01\\x81\\x0f7240466032231871\\x14\\x80\\x01\\x01\\x81\\x0f724046603223187\\x9f%\\x01W\\x9f&\\x02\\x02i\\x9f\\'\\x02\\x03\\x1d\\xbf:\\x14\\x80\\x01\\x00\\x81\\x0f35669721-395258\\x9f\\x81H\\x01\\x12\\x9f\\x81M\\x01\\x01\\x01\\x97\\xa2)\\xbfF\\x82\\x01\\x92\\x80\\x01F\\x82\\x03BYE\\x83\\x01\\x00\\xa4\\x1c\\x81\\x1aIPBSA1-ECSCF-01.ims.tim.br\\x85 sbcthLNQ4wEDsgFqqoNfozk0Hp89rk0s\\xa6\\x1f\\x80\\x1dsip:+5562992271508@ims.tim.br\\xa7\\t\\x81\\x07tel:191\\x89\\t%\\x03\\x18\\x15\\x01B-\\x03\\x00\\x8a\\t%\\x03\\x18\\x15\\x01F-\\x03\\x00\\x8b\\t%\\x03\\x18\\x15\\x02(-\\x03\\x00\\x8c\\t%\\x03\\x18\\x15\\x01F-\\x03\\x00\\x8d\\t%\\x03\\x18\\x15\\x02(-\\x03\\x00\\x8f\\x05\\x00\\xb3\"\\\\i\\x91\\x01\\x00\\xb2\\t\\x80\\x01\\x00\\x81\\x01\\x00\\x82\\x01\\x00\\x93$BSA1-PCSCF-01.1b8.174.20250318180142\\x97\\x010\\x9dE3GPP-E-UTRAN-FDD;utran-cell-id-3gpp=724048DB16213B81;network-provided\\xbf\\x1f,1\\x14\\x80\\x01\\x01\\x81\\x0f7240468001104251\\x14\\x80\\x01\\x01\\x81\\x0f724046800110425\\x9f%\\x02\\x02\\xb9\\x9f&\\x02\\x03\\x81\\x9f\\'\\x02\\x03w\\xbf:\\x14\\x80\\x01\\x00\\x81\\x0f35063659-817840\\x9f\\x81H\\x01*\\x9f\\x81M\\x01\\x01\\x01\\x91\\xa2)\\xbfF\\x82\\x01\\x8c\\x80\\x01F\\x82\\x06INVITE\\x83\\x01\\x00\\xa4\\x1c\\x81\\x1aIPBSA1-ECSCF-01.ims.tim.br\\x85AsbcthLNQQyqqRTDA702FnKvzcETqBw..@acIn:aBn:cBVH:nlBn:B:B:pn6a:6ZxI\\xa6\\x1f\\x80\\x1dsip:+5561999350348@ims.tim.br\\xa7\\t\\x81\\x07tel:193\\x89\\t%\\x03\\x18\\x15\\x000-\\x03\\x00\\x8a\\t%\\x03\\x18\\x15\\x001-\\x03\\x00\\x8c\\t%\\x03\\x18\\x15\\x001-\\x03\\x00\\x8d\\t%\\x03\\x18\\x15\\x001-\\x03\\x00\\x8f\\x05\\x00\\xb3\"`\\x81\\x90\\x01\\x01\\x91\\x01\\x03\\xb2\\t\\x80\\x01\\x00\\x81\\x01\\x02\\x82\\x01\\xff\\x93%BSA1-PCSCF-01.1b6.2d70.20250318180030\\x9dE3GPP-E-UTRAN-FDD;utran-cell-id-3gpp=724048D4F61B9309;network-provided\\xbf\\x1f\\x161\\x14\\x80\\x01\\x01\\x81\\x0f724046701197383\\x9f%\\x02\\x01\\xf6\\x9f&\\x02\\x036\\xbf:\\x14\\x80\\x01\\x00\\x81\\x0f35745910-518814\\x9f\\x81M\\x01\\x01\\x01j\\xa2)\\xbfF\\x82\\x01e\\x80\\x01F\\x82\\x06INVITE\\x83\\x01\\x00\\xa4\\x1c\\x81\\x1aIPBSA1-ECSCF-01.ims.tim.br\\x85 sbcthLNQuRqXTRZVVMmWX0p7eo4RmZqR\\xa6\\x1f\\x80\\x1dsip:+5565992452939@ims.tim.br\\xa7\\x1b\\x81\\x19URN:service:sos.ambulance\\x89\\t%\\x03\\x18\\x15\\x00(-\\x03\\x00\\x8a\\t%\\x03\\x18\\x15\\x00D-\\x03\\x00\\x8c\\t%\\x03\\x18\\x15\\x00D-\\x03\\x00\\x8d\\t%\\x03\\x18\\x15\\x00D-\\x03\\x00\\x8f\\x05\\x00\\xb3\"xl\\x90\\x01\\x01\\x91\\x01\\x03\\xb2\\t\\x80\\x01\\x00\\x81\\x01\\x02\\x82\\x01\\xff\\x93\\'IPRJO5-PCSCF-02.1cd.4370.20250318180010\\x9dE3GPP-E-UTRAN-FDD;utran-cell-id-3gpp=724048EDA6573201;network-provided\\x9f%\\x02\\x02]\\x9f&\\x01\\x05\\xbf:\\x14\\x80\\x01\\x00\\x81\\x0f35670914-375861\\x9f\\x81M\\x01\\x01\\x01\\x91\\xa2)\\xbfF\\x82\\x01\\x8c\\x80\\x01F\\x82\\x03BYE\\x83\\x01\\x00\\xa4\\x1c\\x81\\x1aIPBSA1-ECSCF-01.ims.tim.br\\x85GsbcthLNQbX6p4aF0J9Vf9uZGi-MuZw..@acIn:aBn:cAcc:lZAp:Bca0:pAzB:6B0z:Lxcz\\xa6\\x1f\\x80\\x1dsip:+5562985744309@ims.tim.br\\xa7\\t\\x81\\x07tel:190\\x89\\t%\\x03\\x18\\x15\\x008-\\x03\\x00\\x8a\\t%\\x03\\x18\\x15\\x00P-\\x03\\x00\\x8b\\t%\\x03\\x18\\x15\\x02E-\\x03\\x00\\x8c\\t%\\x03\\x18\\x15\\x00P-\\x03\\x00\\x8d\\t%\\x03\\x18\\x15\\x02E-\\x03\\x00\\x8f\\x05\\x00\\xb3\"{\\x9d\\x91\\x01\\x00\\xb2\\t\\x80\\x01\\x00\\x81\\x01\\x00\\x82\\x01\\x00\\x93\\'IPRJO5-PCSCF-02.1a5.6d69.20250318180020\\x97\\x010\\x9dE3GPP-E-UTRAN-FDD;utran-cell-id-3gpp=724048DB16203703;network-provided\\x9f%\\x02\\x01\\x87\\x9f&\\x01\\x01\\x9f\\'\\x02\\x03{\\xbf:\\x14\\x80\\x01\\x00\\x81\\x0f35779915-252851\\x9f\\x81H\\x01t\\x9f\\x81M\\x01\\x01\\x01\\xa2\\xa2)\\xbfF\\x82\\x01\\x9d\\x80\\x01F\\x82\\x03BYE\\x83\\x01\\x00\\xa4\\x1c\\x81\\x1aIPBSA1-ECSCF-01.ims.tim.br\\x85AsbcthLNQQyqqRTDA702FnKvzcETqBw..@acIn:aBn:cBVH:nlBn:B:B:pn6a:6ZxI\\xa6\\x1f\\x80\\x1dsip:+5561999350348@ims.tim.br\\xa7\\t\\x81\\x07tel:193\\x89\\t%\\x03\\x18\\x15\\x001-\\x03\\x00\\x8a\\t%\\x03\\x18\\x15\\x001-\\x03\\x00\\x8b\\t%\\x03\\x18\\x15\\x02P-\\x03\\x00\\x8c\\t%\\x03\\x18\\x15\\x02P-\\x03\\x00\\x8d\\t%\\x03\\x18\\x15\\x02P-\\x03\\x00\\x8f\\x05\\x00\\xb3\"\\x84\\xcf\\x90\\x01\\x02\\x91\\x01\\x00\\xb2\\t\\x80\\x01\\xff\\x81\\x01\\x00\\x82\\x01\\x00\\x93%BSA1-PCSCF-01.1b6.2d70.20250318180030\\x97\\x010\\x9dE3GPP-E-UTRAN-FDD;utran-cell-id-3gpp=724048D4F61B9309;network-provided\\xbf\\x1f\\x161\\x14\\x80\\x01\\x01\\x81\\x0f724046701197383\\x9f%\\x02\\x036\\x9f&\\x02\\x036\\x9f\\'\\x02\\x01B\\xbf:\\x14\\x80\\x01\\x00\\x81\\x0f35745910-518814\\x9f\\x81H\\x02\\x00\\x8b\\x01v\\xa2)\\xbfF\\x82\\x01q\\x80\\x01F\\x82\\x06INVITE\\x83\\x01\\x00\\xa4\\x1c\\x81\\x1aIPBSA1-ECSCF-01.ims.tim.br\\x85 sbcthLNQwkA1tHVUjEPja7V590ekpqpB\\xa6\\x1f\\x80\\x1dsip:+5561992098571@ims.tim.br\\xa7\\x11\\x81\\x0fURN:service:sos\\x89\\t%\\x03\\x18\\x15\\x01\\x19-\\x03\\x00\\x8a\\t%\\x03\\x18\\x15\\x01$-\\x03\\x00\\x8c\\t%\\x03\\x18\\x15\\x01$-\\x03\\x00\\x8d\\t%\\x03\\x18\\x15\\x01$-\\x03\\x00\\x8f\\x05\\x00\\xb3\"\\xbd(\\x90\\x01\\x01\\x91\\x01\\x03\\xb2\\t\\x80\\x01\\x00\\x81\\x01\\x02\\x82\\x01\\xff\\x93#BSA1-PCSCF-01.1b8.1e.20250318180119\\x9dE3GPP-E-UTRAN-FDD;utran-cell-id-3gpp=724048D4B6117947;network-provided\\xbf\\x1f\\x161\\x14\\x80\\x01\\x01\\x81\\x0f724046204007306\\x9f%\\x02\\x01u\\x9f&\\x02\\x037\\xbf:\\x14\\x80\\x01\\x00\\x81\\x0f35727309-025300\\x9f\\x81M\\x01\\x01\\x01\\x86\\xa2)\\xbfF\\x82\\x01\\x81\\x80\\x01F\\x82\\x03BYE\\x83\\x01\\x00\\xa4\\x1c\\x81\\x1aIPBSA1-ECSCF-01.ims.tim.br\\x85 sbcthLNQwkA1tHVUjEPja7V590ekpqpB\\xa6\\x1f\\x80\\x1dsip:+5561992098571@ims.tim.br\\xa7\\x11\\x81\\x0fURN:service:sos\\x89\\t%\\x03\\x18\\x15\\x01$-\\x03\\x00\\x8a\\t%\\x03\\x18\\x15\\x01$-\\x03\\x00\\x8b\\t%\\x03\\x18\\x15\\x034-\\x03\\x00\\x8c\\t%\\x03\\x18\\x15\\x034-\\x03\\x00\\x8d\\t%\\x03\\x18\\x15\\x034-\\x03\\x00\\x8f\\x05\\x00\\xb3\"\\xce\\x98\\x90\\x01\\x02\\x91\\x01\\x00\\xb2\\t\\x80\\x01\\xff\\x81\\x01\\x00\\x82\\x01\\x00\\x93#BSA1-PCSCF-01.1b8.1e.20250318180119\\x97\\x010\\x9dE3GPP-E-UTRAN-FDD;utran-cell-id-3gpp=724048D4B6117947;network-provided\\xbf\\x1f\\x161\\x14\\x80\\x01\\x01\\x81\\x0f724046204007306\\x9f%\\x02\\x037\\x9f&\\x02\\x037\\x9f\\'\\x01g\\xbf:\\x14\\x80\\x01\\x00\\x81\\x0f35727309-025300\\x9f\\x81H\\x02\\x00\\x82\\x01\\x92\\xa2)\\xbfF\\x82\\x01\\x8d\\x80\\x01F\\x82\\x03BYE\\x83\\x01\\x00\\xa4\\x1c\\x81\\x1aIPBSA1-ECSCF-01.ims.tim.br\\x85GsbcthLNQ4R0Bwmy58iFrgwwiwiAq9w..@acIn:aBn:cAcc:ZLnc:Bca0:pAZx:pIpH:0zpA\\xa6\\x1f\\x80\\x1dsip:+5561996476569@ims.tim.br\\xa7\\t\\x81\\x07tel:193\\x89\\t%\\x03\\x18\\x15\\x02V-\\x03\\x00\\x8a\\t%\\x03\\x18\\x15\\x03\\t-\\x03\\x00\\x8b\\t%\\x03\\x18\\x15\\x03C-\\x03\\x00\\x8c\\t%\\x03\\x18\\x15\\x03\\t-\\x03\\x00\\x8d\\t%\\x03\\x18\\x15\\x03C-\\x03\\x00\\x8f\\x05\\x00\\xb3\"\\xdc\\xd0\\x91\\x01\\x00\\xb2\\t\\x80\\x01\\x00\\x81\\x01\\x00\\x82\\x01\\x00\\x93\\'IPRJO5-PCSCF-02.1cd.46d6.20250318180238\\x97\\x010\\x9dE3GPP-E-UTRAN-FDD;utran-cell-id-3gpp=724048D4BF827783;network-provided\\x9f%\\x02\\x02\\xb9\\x9f&\\x02\\x01Q\\x9f\\'\\x02\\x03O\\xbf:\\x14\\x80\\x01\\x00\\x81\\x0f35222973-216950\\x9f\\x81H\\x01#\\x9f\\x81M\\x01\\x01\\x01\\xa5\\xa2)\\xbfF\\x82\\x01\\xa0\\x80\\x01F\\x82\\x03BYE\\x83\\x01\\x00\\xa4\\x1c\\x81\\x1aIPBSA1-ECSCF-01.ims.tim.br\\x85\\x1bsbcthLNQkXoQbcDGNVTCkUuG4VY\\xa6\\x1f\\x80\\x1dsip:+5567981213913@ims.tim.br\\xa7\\x1b\\x81\\x19URN:service:sos.ambulance\\x89\\t%\\x03\\x18\\x15\\x03C-\\x03\\x00\\x8a\\t%\\x03\\x18\\x15\\x03D-\\x03\\x00\\x8b\\t%\\x03\\x18\\x15\\x03F-\\x03\\x00\\x8c\\t%\\x03\\x18\\x15\\x03D-\\x03\\x00\\x8d\\t%\\x03\\x18\\x15\\x03F-\\x03\\x00\\x8f\\x05\\x00\\xb3\"\\xe1\\xeb\\x91\\x01\\x00\\xb2\\t\\x80\\x01\\x00\\x81\\x01\\x00\\x82\\x01\\x00\\x93%BSA1-PCSCF-01.1bb.ddb1.20250318180343\\x97\\x010\\x9dE3GPP-E-UTRAN-FDD;utran-cell-id-3gpp=724048F9067616D5;network-provided\\xbf\\x1f,1\\x14\\x80\\x01\\x01\\x81\\x0f7240466004948001\\x14\\x80\\x01\\x01\\x81\\x0f724046600494800\\x9f%\\x02\\x00\\xaf\\x9f&\\x02\\x03\\x07\\x9f\\'\\x02\\x02\\xfd\\xbf:\\x14\\x80\\x01\\x00\\x81\\x0f86170107-764837\\x9f\\x81H\\x01\\x02\\x9f\\x81M\\x01\\x01\\x01\\x90\\xa2)\\xbfF\\x82\\x01\\x8b\\x80\\x01F\\x82\\x06INVITE\\x83\\x01\\x00\\xa4\\x1c\\x81\\x1aIPBSA1-ECSCF-01.ims.tim.br\\x85AsbcthLNQAL792XCjjk1Sw_FKS8t4Xw..@acIn:aBn:cBzH:LHB6:B:B:pncB:HnBB\\xa6\\x1f\\x80\\x1dsip:+5565981704466@ims.tim.br\\xa7\\t\\x81\\x07tel:188\\x89\\t%\\x03\\x18\\x15\\x01G-\\x03\\x00\\x8a\\t%\\x03\\x18\\x15\\x01I-\\x03\\x00\\x8c\\t%\\x03\\x18\\x15\\x01I-\\x03\\x00\\x8d\\t%\\x03\\x18\\x15\\x01I-\\x03\\x00\\x8f\\x05\\x00\\xb3\"\\xe6\\x06\\x90\\x01\\x01\\x91\\x01\\x03\\xb2\\t\\x80\\x01\\x00\\x81\\x01\\x02\\x82\\x01\\xff\\x93%BSA1-PCSCF-01.1b5.2f71.20250318180146\\x9dE3GPP-E-UTRAN-FDD;utran-cell-id-3gpp=724048EDA657D10A;network-provided\\xbf\\x1f\\x161\\x14\\x80\\x01\\x01\\x81\\x0f724046414682253\\x9f%\\x01`\\x9f&\\x02\\x026\\xbf:\\x14\\x80\\x01\\x00\\x81\\x0f35415808-649973\\x9f\\x81M\\x01\\x01\\x01\\xa5\\xa2)\\xbfF\\x82\\x01\\xa0\\x80\\x01F\\x82\\x03BYE\\x83\\x01\\x00\\xa4\\x1c\\x81\\x1aIPBSA1-ECSCF-01.ims.tim.br\\x85\\x1bsbcthLNQ5RbyIdD4j2c9ypMem9G\\xa6\\x1f\\x80\\x1dsip:+5567981213913@ims.tim.br\\xa7\\x1b\\x81\\x19URN:service:sos.ambulance\\x89\\t%\\x03\\x18\\x15\\x03F-\\x03\\x00\\x8a\\t%\\x03\\x18\\x15\\x03H-\\x03\\x00\\x8b\\t%\\x03\\x18\\x15\\x03P-\\x03\\x00\\x8c\\t%\\x03\\x18\\x15\\x03H-\\x03\\x00\\x8d\\t%\\x03\\x18\\x15\\x03P-\\x03\\x00\\x8f\\x05\\x00\\xb3\"\\xe9\\x01\\x91\\x01\\x00\\xb2\\t\\x80\\x01\\x00\\x81\\x01\\x00\\x82\\x01\\x00\\x93%BSA1-PCSCF-01.1bb.ddec.20250318180346\\x97\\x010\\x9dE3GPP-E-UTRAN-FDD;utran-cell-id-3gpp=724048F9067616D5;network-provided\\xbf\\x1f,1\\x14\\x80\\x01\\x01\\x81\\x0f7240466004948001\\x14\\x80\\x01\\x01\\x81\\x0f724046600494800\\x9f%\\x02\\x03m\\x9f&\\x02\\x01\\x15\\x9f\\'\\x02\\x01\\x15\\xbf:\\x14\\x80\\x01\\x00\\x81\\x0f86170107-764837\\x9f\\x81H\\x01\\x02\\x9f\\x81M\\x01\\x01'"
      ]
     },
     "execution_count": 68,
     "metadata": {},
     "output_type": "execute_result"
    }
   ],
   "source": [
    "example_1"
   ]
  },
  {
   "cell_type": "code",
   "execution_count": 61,
   "metadata": {},
   "outputs": [],
   "source": [
    "for i in range(len(example_1)):\n",
    "    try:\n",
    "        sbc_ok = sbc_tim_ber.decode(\"ECSCFRecord\", example_1[i:])\n",
    "        break\n",
    "    except:\n",
    "        pass"
   ]
  },
  {
   "cell_type": "code",
   "execution_count": 67,
   "metadata": {},
   "outputs": [
    {
     "ename": "DecodeTagError",
     "evalue": "RecordType: Expected INTEGER(RecordType) with tag '02', but got '31'. (At offset: 0)",
     "output_type": "error",
     "traceback": [
      "\u001b[31m---------------------------------------------------------------------------\u001b[39m",
      "\u001b[31mDecodeTagError\u001b[39m                            Traceback (most recent call last)",
      "\u001b[36mCell\u001b[39m\u001b[36m \u001b[39m\u001b[32mIn[67]\u001b[39m\u001b[32m, line 1\u001b[39m\n\u001b[32m----> \u001b[39m\u001b[32m1\u001b[39m \u001b[43msbc_tim_der\u001b[49m\u001b[43m.\u001b[49m\u001b[43mdecode\u001b[49m\u001b[43m(\u001b[49m\u001b[33;43m\"\u001b[39;49m\u001b[33;43mRecordType\u001b[39;49m\u001b[33;43m\"\u001b[39;49m\u001b[43m,\u001b[49m\u001b[43m \u001b[49m\u001b[43mexample_1\u001b[49m\u001b[43m[\u001b[49m\u001b[43mi\u001b[49m\u001b[43m:\u001b[49m\u001b[43m]\u001b[49m\u001b[43m)\u001b[49m\n",
      "\u001b[36mFile \u001b[39m\u001b[32m~/repositorios/teleparser/.venv/lib/python3.13/site-packages/asn1tools/compiler.py:167\u001b[39m, in \u001b[36mSpecification.decode\u001b[39m\u001b[34m(self, name, data, check_constraints)\u001b[39m\n\u001b[32m    163\u001b[39m \u001b[38;5;28;01mexcept\u001b[39;00m \u001b[38;5;167;01mKeyError\u001b[39;00m:\n\u001b[32m    164\u001b[39m     \u001b[38;5;28;01mraise\u001b[39;00m DecodeError(\n\u001b[32m    165\u001b[39m         \u001b[33m\"\u001b[39m\u001b[33mType \u001b[39m\u001b[33m'\u001b[39m\u001b[38;5;132;01m{}\u001b[39;00m\u001b[33m'\u001b[39m\u001b[33m not found in types dictionary.\u001b[39m\u001b[33m\"\u001b[39m.format(name))\n\u001b[32m--> \u001b[39m\u001b[32m167\u001b[39m decoded = \u001b[43mtype_\u001b[49m\u001b[43m.\u001b[49m\u001b[43mdecode\u001b[49m\u001b[43m(\u001b[49m\u001b[43mdata\u001b[49m\u001b[43m)\u001b[49m\n\u001b[32m    169\u001b[39m \u001b[38;5;28;01mif\u001b[39;00m check_constraints:\n\u001b[32m    170\u001b[39m     type_.check_constraints(decoded)\n",
      "\u001b[36mFile \u001b[39m\u001b[32m~/repositorios/teleparser/.venv/lib/python3.13/site-packages/asn1tools/codecs/ber.py:1550\u001b[39m, in \u001b[36mCompiledType.decode\u001b[39m\u001b[34m(self, data)\u001b[39m\n\u001b[32m   1549\u001b[39m \u001b[38;5;28;01mdef\u001b[39;00m\u001b[38;5;250m \u001b[39m\u001b[34mdecode\u001b[39m(\u001b[38;5;28mself\u001b[39m, data):\n\u001b[32m-> \u001b[39m\u001b[32m1550\u001b[39m     \u001b[38;5;28;01mreturn\u001b[39;00m \u001b[38;5;28;43mself\u001b[39;49m\u001b[43m.\u001b[49m\u001b[43mdecode_with_length\u001b[49m\u001b[43m(\u001b[49m\u001b[43mdata\u001b[49m\u001b[43m)\u001b[49m[\u001b[32m0\u001b[39m]\n",
      "\u001b[36mFile \u001b[39m\u001b[32m~/repositorios/teleparser/.venv/lib/python3.13/site-packages/asn1tools/codecs/ber.py:1565\u001b[39m, in \u001b[36mCompiledType.decode_with_length\u001b[39m\u001b[34m(self, data)\u001b[39m\n\u001b[32m   1562\u001b[39m \u001b[38;5;28;01mexcept\u001b[39;00m ErrorWithLocation \u001b[38;5;28;01mas\u001b[39;00m e:\n\u001b[32m   1563\u001b[39m     \u001b[38;5;66;03m# Add member location\u001b[39;00m\n\u001b[32m   1564\u001b[39m     e.add_location(\u001b[38;5;28mself\u001b[39m._type)\n\u001b[32m-> \u001b[39m\u001b[32m1565\u001b[39m     \u001b[38;5;28;01mraise\u001b[39;00m e\n\u001b[32m   1566\u001b[39m \u001b[38;5;28;01mreturn\u001b[39;00m decoded, offset\n",
      "\u001b[36mFile \u001b[39m\u001b[32m~/repositorios/teleparser/.venv/lib/python3.13/site-packages/asn1tools/codecs/ber.py:1561\u001b[39m, in \u001b[36mCompiledType.decode_with_length\u001b[39m\u001b[34m(self, data)\u001b[39m\n\u001b[32m   1559\u001b[39m     decoded, offset = \u001b[38;5;28mself\u001b[39m._type.decode(\u001b[38;5;28mbytearray\u001b[39m(data), \u001b[32m0\u001b[39m)\n\u001b[32m   1560\u001b[39m     \u001b[38;5;66;03m# Raise DecodeError\u001b[39;00m\n\u001b[32m-> \u001b[39m\u001b[32m1561\u001b[39m     \u001b[43mcheck_decode_error\u001b[49m\u001b[43m(\u001b[49m\u001b[38;5;28;43mself\u001b[39;49m\u001b[43m.\u001b[49m\u001b[43m_type\u001b[49m\u001b[43m,\u001b[49m\u001b[43m \u001b[49m\u001b[43mdecoded\u001b[49m\u001b[43m,\u001b[49m\u001b[43m \u001b[49m\u001b[43mdata\u001b[49m\u001b[43m,\u001b[49m\u001b[43m \u001b[49m\u001b[43moffset\u001b[49m\u001b[43m)\u001b[49m\n\u001b[32m   1562\u001b[39m \u001b[38;5;28;01mexcept\u001b[39;00m ErrorWithLocation \u001b[38;5;28;01mas\u001b[39;00m e:\n\u001b[32m   1563\u001b[39m     \u001b[38;5;66;03m# Add member location\u001b[39;00m\n\u001b[32m   1564\u001b[39m     e.add_location(\u001b[38;5;28mself\u001b[39m._type)\n",
      "\u001b[36mFile \u001b[39m\u001b[32m~/repositorios/teleparser/.venv/lib/python3.13/site-packages/asn1tools/codecs/ber.py:125\u001b[39m, in \u001b[36mcheck_decode_error\u001b[39m\u001b[34m(asn_type, decoded_value, data, offset)\u001b[39m\n\u001b[32m    120\u001b[39m \u001b[38;5;250m\u001b[39m\u001b[33;03m\"\"\"\u001b[39;00m\n\u001b[32m    121\u001b[39m \u001b[33;03mChecks if decode result corresponds to TAG_MISMATCH, if so, raise DecodeTagError\u001b[39;00m\n\u001b[32m    122\u001b[39m \u001b[33;03m:return:\u001b[39;00m\n\u001b[32m    123\u001b[39m \u001b[33;03m\"\"\"\u001b[39;00m\n\u001b[32m    124\u001b[39m \u001b[38;5;28;01mif\u001b[39;00m decoded_value == TAG_MISMATCH:\n\u001b[32m--> \u001b[39m\u001b[32m125\u001b[39m     \u001b[38;5;28;01mraise\u001b[39;00m DecodeTagError(asn_type, data, offset, location=asn_type)\n",
      "\u001b[31mDecodeTagError\u001b[39m: RecordType: Expected INTEGER(RecordType) with tag '02', but got '31'. (At offset: 0)"
     ]
    }
   ],
   "source": [
    "sbc_tim_der.decode(\"RecordType\", example_1[i:])\n"
   ]
  },
  {
   "cell_type": "code",
   "execution_count": 13,
   "metadata": {},
   "outputs": [],
   "source": [
    "(version, msg_len_bytes, flags, cmd_bytes, app_id, hbh_id, e2e_id) = struct.unpack(\n",
    "    \">B3sB3sIII\", bdata[2:22]\n",
    ")\n"
   ]
  },
  {
   "cell_type": "code",
   "execution_count": 14,
   "metadata": {},
   "outputs": [
    {
     "data": {
      "text/plain": [
       "1"
      ]
     },
     "execution_count": 14,
     "metadata": {},
     "output_type": "execute_result"
    }
   ],
   "source": [
    "version"
   ]
  },
  {
   "cell_type": "code",
   "execution_count": 15,
   "metadata": {},
   "outputs": [
    {
     "data": {
      "text/plain": [
       "1320"
      ]
     },
     "execution_count": 15,
     "metadata": {},
     "output_type": "execute_result"
    }
   ],
   "source": [
    "int.from_bytes(msg_len_bytes)"
   ]
  },
  {
   "cell_type": "code",
   "execution_count": null,
   "metadata": {},
   "outputs": [],
   "source": [
    "bdata[1320:]"
   ]
  },
  {
   "cell_type": "code",
   "execution_count": 25,
   "metadata": {},
   "outputs": [
    {
     "data": {
      "text/plain": [
       "'ACR message - Flags: Proxiable, Retransmitted'"
      ]
     },
     "execution_count": 25,
     "metadata": {},
     "output_type": "execute_result"
    }
   ],
   "source": [
    "str(parse_command_flags(flags))"
   ]
  },
  {
   "cell_type": "code",
   "execution_count": 19,
   "metadata": {},
   "outputs": [
    {
     "data": {
      "text/plain": [
       "{'R': True,\n",
       " 'P': True,\n",
       " 'E': False,\n",
       " 'T': True,\n",
       " 'isACR': True,\n",
       " 'isACA': False,\n",
       " 'isProxiable': True,\n",
       " 'hasProtocolError': False,\n",
       " 'isRetransmitted': True}"
      ]
     },
     "execution_count": 19,
     "metadata": {},
     "output_type": "execute_result"
    }
   ],
   "source": [
    "flags.value"
   ]
  },
  {
   "cell_type": "code",
   "execution_count": 9,
   "metadata": {},
   "outputs": [
    {
     "data": {
      "text/plain": [
       "271"
      ]
     },
     "execution_count": 9,
     "metadata": {},
     "output_type": "execute_result"
    }
   ],
   "source": [
    "int.from_bytes(cmd_bytes)"
   ]
  },
  {
   "cell_type": "code",
   "execution_count": 10,
   "metadata": {},
   "outputs": [
    {
     "data": {
      "text/plain": [
       "3"
      ]
     },
     "execution_count": 10,
     "metadata": {},
     "output_type": "execute_result"
    }
   ],
   "source": [
    "app_id"
   ]
  },
  {
   "cell_type": "code",
   "execution_count": 11,
   "metadata": {},
   "outputs": [
    {
     "data": {
      "text/plain": [
       "1020721216"
      ]
     },
     "execution_count": 11,
     "metadata": {},
     "output_type": "execute_result"
    }
   ],
   "source": [
    "hbh_id"
   ]
  },
  {
   "cell_type": "code",
   "execution_count": 12,
   "metadata": {},
   "outputs": [
    {
     "data": {
      "text/plain": [
       "89225398"
      ]
     },
     "execution_count": 12,
     "metadata": {},
     "output_type": "execute_result"
    }
   ],
   "source": [
    "e2e_id"
   ]
  },
  {
   "cell_type": "code",
   "execution_count": null,
   "metadata": {},
   "outputs": [],
   "source": []
  }
 ],
 "metadata": {
  "kernelspec": {
   "display_name": "teleparser",
   "language": "python",
   "name": "python3"
  },
  "language_info": {
   "codemirror_mode": {
    "name": "ipython",
    "version": 3
   },
   "file_extension": ".py",
   "mimetype": "text/x-python",
   "name": "python",
   "nbconvert_exporter": "python",
   "pygments_lexer": "ipython3",
   "version": "3.13.3"
  }
 },
 "nbformat": 4,
 "nbformat_minor": 2
}
