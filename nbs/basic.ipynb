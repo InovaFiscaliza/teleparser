{
 "cells": [
  {
   "cell_type": "code",
   "execution_count": 8,
   "metadata": {},
   "outputs": [
    {
     "data": {
      "text/plain": [
       "(#215) [Path('/home/rsilva/volte_claro/DIAMETERACCT_20250408_113036_02B3S.gz'),Path('/home/rsilva/volte_claro/DIAMETERACCT_20250408_100207_0287S.gz'),Path('/home/rsilva/volte_claro/DIAMETERACCT_20250408_101352_028CS.gz'),Path('/home/rsilva/volte_claro/DIAMETERACCT_20250408_124315_02D6S.gz'),Path('/home/rsilva/volte_claro/DIAMETERACCT_20250408_111836_02ADS.gz'),Path('/home/rsilva/volte_claro/DIAMETERACCT_20250408_100812_028AS.gz'),Path('/home/rsilva/volte_claro/DIAMETERACCT_20250408_121247_02C7S.gz'),Path('/home/rsilva/volte_claro/DIAMETERACCT_20250408_110016_02A3S.gz'),Path('/home/rsilva/volte_claro/DIAMETERACCT_20250408_104230_029BS.gz'),Path('/home/rsilva/volte_claro/DIAMETERACCT_20250408_104030_029AS.gz'),Path('/home/rsilva/volte_claro/DIAMETERACCT_20250408_111627_02ABS.gz'),Path('/home/rsilva/volte_claro/DIAMETERACCT_20250408_112436_02B0S.gz'),Path('/home/rsilva/volte_claro/DIAMETERACCT_20250408_120040_02C2S.gz'),Path('/home/rsilva/volte_claro/DIAMETERACCT_20250408_125659_02DES.gz'),Path('/home/rsilva/volte_claro/DIAMETERACCT_20250408_110436_02A6S.gz'),Path('/home/rsilva/volte_claro/DIAMETERACCT_20250408_103540_008CS.gz'),Path('/home/rsilva/volte_claro/DIAMETERACCT_20250408_121444_02C9S.gz'),Path('/home/rsilva/volte_claro/DIAMETERACCT_20250408_102003_028FS.gz'),Path('/home/rsilva/volte_claro/DIAMETERACCT_20250408_124452_02D8S.gz'),Path('/home/rsilva/volte_claro/DIAMETERACCT_20250408_120842_02C5S.gz')...]"
      ]
     },
     "execution_count": 8,
     "metadata": {},
     "output_type": "execute_result"
    }
   ],
   "source": [
    "import struct\n",
    "import gzip\n",
    "from fastcore.xtras import Path\n",
    "from io import BufferedReader, BytesIO\n",
    "from teleparser.main import BufferManager\n",
    "\n",
    "folder = Path(\"/home/rsilva/volte_claro/\")\n",
    "folder.ls()"
   ]
  },
  {
   "cell_type": "code",
   "execution_count": 11,
   "metadata": {},
   "outputs": [],
   "source": [
    "file = folder.ls().shuffle()[0]\n",
    "file_handle = gzip.open(file, \"rb\")\n",
    "bdata = file_handle.read()\n",
    "file_handle.close()"
   ]
  },
  {
   "cell_type": "code",
   "execution_count": 23,
   "metadata": {},
   "outputs": [
    {
     "data": {
      "text/plain": [
       "b'\\x01\\x00\\x05(\\xc0\\x00\\x01\\x0f\\x00\\x00\\x00\\x03D`\\xe0`\\x07wKd'"
      ]
     },
     "execution_count": 23,
     "metadata": {},
     "output_type": "execute_result"
    }
   ],
   "source": [
    "bdata[2:22]"
   ]
  },
  {
   "cell_type": "code",
   "execution_count": 13,
   "metadata": {},
   "outputs": [],
   "source": [
    "(version, msg_len_bytes, flags, cmd_bytes, app_id, hbh_id, e2e_id) = struct.unpack(\n",
    "    \">B3sB3sIII\", bdata[2:22]\n",
    ")\n"
   ]
  },
  {
   "cell_type": "code",
   "execution_count": 14,
   "metadata": {},
   "outputs": [
    {
     "data": {
      "text/plain": [
       "1"
      ]
     },
     "execution_count": 14,
     "metadata": {},
     "output_type": "execute_result"
    }
   ],
   "source": [
    "version"
   ]
  },
  {
   "cell_type": "code",
   "execution_count": 15,
   "metadata": {},
   "outputs": [
    {
     "data": {
      "text/plain": [
       "1320"
      ]
     },
     "execution_count": 15,
     "metadata": {},
     "output_type": "execute_result"
    }
   ],
   "source": [
    "int.from_bytes(msg_len_bytes)"
   ]
  },
  {
   "cell_type": "code",
   "execution_count": null,
   "metadata": {},
   "outputs": [],
   "source": [
    "bdata[1320:]"
   ]
  },
  {
   "cell_type": "code",
   "execution_count": 25,
   "metadata": {},
   "outputs": [
    {
     "data": {
      "text/plain": [
       "'ACR message - Flags: Proxiable, Retransmitted'"
      ]
     },
     "execution_count": 25,
     "metadata": {},
     "output_type": "execute_result"
    }
   ],
   "source": [
    "str(parse_command_flags(flags))"
   ]
  },
  {
   "cell_type": "code",
   "execution_count": 19,
   "metadata": {},
   "outputs": [
    {
     "data": {
      "text/plain": [
       "{'R': True,\n",
       " 'P': True,\n",
       " 'E': False,\n",
       " 'T': True,\n",
       " 'isACR': True,\n",
       " 'isACA': False,\n",
       " 'isProxiable': True,\n",
       " 'hasProtocolError': False,\n",
       " 'isRetransmitted': True}"
      ]
     },
     "execution_count": 19,
     "metadata": {},
     "output_type": "execute_result"
    }
   ],
   "source": [
    "flags.value"
   ]
  },
  {
   "cell_type": "code",
   "execution_count": 9,
   "metadata": {},
   "outputs": [
    {
     "data": {
      "text/plain": [
       "271"
      ]
     },
     "execution_count": 9,
     "metadata": {},
     "output_type": "execute_result"
    }
   ],
   "source": [
    "int.from_bytes(cmd_bytes)"
   ]
  },
  {
   "cell_type": "code",
   "execution_count": 10,
   "metadata": {},
   "outputs": [
    {
     "data": {
      "text/plain": [
       "3"
      ]
     },
     "execution_count": 10,
     "metadata": {},
     "output_type": "execute_result"
    }
   ],
   "source": [
    "app_id"
   ]
  },
  {
   "cell_type": "code",
   "execution_count": 11,
   "metadata": {},
   "outputs": [
    {
     "data": {
      "text/plain": [
       "1020721216"
      ]
     },
     "execution_count": 11,
     "metadata": {},
     "output_type": "execute_result"
    }
   ],
   "source": [
    "hbh_id"
   ]
  },
  {
   "cell_type": "code",
   "execution_count": 12,
   "metadata": {},
   "outputs": [
    {
     "data": {
      "text/plain": [
       "89225398"
      ]
     },
     "execution_count": 12,
     "metadata": {},
     "output_type": "execute_result"
    }
   ],
   "source": [
    "e2e_id"
   ]
  },
  {
   "cell_type": "code",
   "execution_count": null,
   "metadata": {},
   "outputs": [],
   "source": []
  }
 ],
 "metadata": {
  "kernelspec": {
   "display_name": ".venv",
   "language": "python",
   "name": "python3"
  },
  "language_info": {
   "codemirror_mode": {
    "name": "ipython",
    "version": 3
   },
   "file_extension": ".py",
   "mimetype": "text/x-python",
   "name": "python",
   "nbconvert_exporter": "python",
   "pygments_lexer": "ipython3",
   "version": "3.13.3"
  }
 },
 "nbformat": 4,
 "nbformat_minor": 2
}
