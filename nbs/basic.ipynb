{
 "cells": [
  {
   "cell_type": "code",
   "execution_count": 1,
   "metadata": {},
   "outputs": [],
   "source": [
    "import gzip\n",
    "from pathlib import Path\n",
    "from io import BufferedReader, BytesIO\n",
    "from teleparser.decoders.ber import BerDecoder\n",
    "from teleparser.file_handling import BufferManager\n",
    "\n",
    "folder = Path.cwd().parent / \"data\""
   ]
  },
  {
   "cell_type": "code",
   "execution_count": 2,
   "metadata": {},
   "outputs": [],
   "source": [
    "file = folder / \"timvoz.gz\"\n",
    "buffer_manager = BufferManager(file)"
   ]
  },
  {
   "cell_type": "code",
   "execution_count": 3,
   "metadata": {},
   "outputs": [],
   "source": [
    "ber = BerDecoder()\n",
    "file_buffer = buffer_manager.open_file()\n"
   ]
  },
  {
   "cell_type": "code",
   "execution_count": 4,
   "metadata": {},
   "outputs": [
    {
     "name": "stdout",
     "output_type": "stream",
     "text": [
      "Varredura: (Call Data Record)\n",
      "a0 BerClass.CONTEXT 0 191 b'\\xa2\\x81\\xbc\\x99\\x01\\x01\\x8c\\x04\\x00\\x00\\x00\\x00\\x89\\x03\\x18\\x0c\\x0e\\x93\\x0fZCTA09P BR00308\\x8d\\x03\\x00\\x00\\x00\\x82\\x03\\x16\\x08Z\\x91\\x02\\x00\\x01\\x8a\\x03\\x0b\\x00\\x0f\\x8b\\x03\\x0b\\x00\\x0f\\x9f0\\x02%?\\x85\\x07A@\\x93\\x88\\x11q\\x08\\x87\\r\\x11U\\n#\\x01\\x00\\x004\\x89\\x18\\x11\\x87\\xf0\\x94\\x07\\x11U\\x00D\\x01\\x01\\x90\\x86\\x08\\x01#\\x01\\x00\\x00\\x00\\x00\\xf0\\x9f1\\x05-\\xa0 %?\\x84\\x07A4)\\x00R!\\xf0\\x96\\x0741TWYMI\\x9f,\\x010\\x9e\\x01\\x00\\x9f)\\x03|;\\xac\\x81\\x03|;\\xe2\\x83\\x01\\x01\\x80\\x03\\x00\\x02\\x04\\x98\\x01\\x00\\x90\\x01\\x00\\x9b\\x02\\x02\\x17\\x8e\\x03\\x00\\x00\\x00\\x8f\\x01\\x00\\x88\\x01\\x02\\x95\\x07ZFN3AEO\\x9a\\x016'\n",
      "================================================================================\n",
      "Call Module\n",
      "tipo=2, comprimento=188, bytes=b'\\x99\\x01\\x01\\x8c\\x04\\x00\\x00\\x00\\x00\\x89\\x03\\x18\\x0c\\x0e\\x93\\x0fZCTA09P BR00308\\x8d\\x03\\x00\\x00\\x00\\x82\\x03\\x16\\x08Z\\x91\\x02\\x00\\x01\\x8a\\x03\\x0b\\x00\\x0f\\x8b\\x03\\x0b\\x00\\x0f\\x9f0\\x02%?\\x85\\x07A@\\x93\\x88\\x11q\\x08\\x87\\r\\x11U\\n#\\x01\\x00\\x004\\x89\\x18\\x11\\x87\\xf0\\x94\\x07\\x11U\\x00D\\x01\\x01\\x90\\x86\\x08\\x01#\\x01\\x00\\x00\\x00\\x00\\xf0\\x9f1\\x05-\\xa0 %?\\x84\\x07A4)\\x00R!\\xf0\\x96\\x0741TWYMI\\x9f,\\x010\\x9e\\x01\\x00\\x9f)\\x03|;\\xac\\x81\\x03|;\\xe2\\x83\\x01\\x01\\x80\\x03\\x00\\x02\\x04\\x98\\x01\\x00\\x90\\x01\\x00\\x9b\\x02\\x02\\x17\\x8e\\x03\\x00\\x00\\x00\\x8f\\x01\\x00\\x88\\x01\\x02\\x95\\x07ZFN3AEO\\x9a\\x016'\n",
      "================================================================================\n",
      "Quantidade de parâmetros dentro do Call Module: 31\n",
      "Parâmetros:\n",
      "tipo=25, comprimento=1, bytes=b'\\x01'\n",
      "tipo=12, comprimento=4, bytes=b'\\x00\\x00\\x00\\x00'\n",
      "tipo=9, comprimento=3, bytes=b'\\x18\\x0c\\x0e'\n",
      "tipo=19, comprimento=15, bytes=b'ZCTA09P BR00308'\n",
      "tipo=13, comprimento=3, bytes=b'\\x00\\x00\\x00'\n",
      "tipo=2, comprimento=3, bytes=b'\\x16\\x08Z'\n",
      "tipo=17, comprimento=2, bytes=b'\\x00\\x01'\n",
      "tipo=10, comprimento=3, bytes=b'\\x0b\\x00\\x0f'\n",
      "tipo=11, comprimento=3, bytes=b'\\x0b\\x00\\x0f'\n",
      "tipo=48, comprimento=2, bytes=b'%?'\n",
      "tipo=5, comprimento=7, bytes=b'A@\\x93\\x88\\x11q\\x08'\n",
      "tipo=7, comprimento=13, bytes=b'\\x11U\\n#\\x01\\x00\\x004\\x89\\x18\\x11\\x87\\xf0'\n",
      "tipo=20, comprimento=7, bytes=b'\\x11U\\x00D\\x01\\x01\\x90'\n",
      "tipo=6, comprimento=8, bytes=b'\\x01#\\x01\\x00\\x00\\x00\\x00\\xf0'\n",
      "tipo=49, comprimento=5, bytes=b'-\\xa0 %?'\n",
      "tipo=4, comprimento=7, bytes=b'A4)\\x00R!\\xf0'\n",
      "tipo=22, comprimento=7, bytes=b'41TWYMI'\n",
      "tipo=44, comprimento=1, bytes=b'0'\n",
      "tipo=30, comprimento=1, bytes=b'\\x00'\n",
      "tipo=41, comprimento=3, bytes=b'|;\\xac'\n",
      "tipo=1, comprimento=3, bytes=b'|;\\xe2'\n",
      "tipo=3, comprimento=1, bytes=b'\\x01'\n",
      "tipo=0, comprimento=3, bytes=b'\\x00\\x02\\x04'\n",
      "tipo=24, comprimento=1, bytes=b'\\x00'\n",
      "tipo=16, comprimento=1, bytes=b'\\x00'\n",
      "tipo=27, comprimento=2, bytes=b'\\x02\\x17'\n",
      "tipo=14, comprimento=3, bytes=b'\\x00\\x00\\x00'\n",
      "tipo=15, comprimento=1, bytes=b'\\x00'\n",
      "tipo=8, comprimento=1, bytes=b'\\x02'\n",
      "tipo=21, comprimento=7, bytes=b'ZFN3AEO'\n",
      "tipo=26, comprimento=1, bytes=b'6'\n"
     ]
    }
   ],
   "source": [
    "if (tlv := ber.decode_tlv(file_buffer)) is not None:\n",
    "    print(\"Varredura: (Call Data Record)\")\n",
    "    print(tlv.tag.string, tlv.tag.tag_class, tlv.tag.number, tlv.length, tlv.value)\n",
    "    if tlv.children is not None:\n",
    "        for child in tlv.children:\n",
    "            print(80*'=')\n",
    "            print(\"Call Module\")\n",
    "            print(f\"tipo={child.tag.number}, comprimento={child.length}, bytes={child.value}\")\n",
    "            print(80 * \"=\")\n",
    "            print(f'Quantidade de parâmetros dentro do Call Module: {len(child.children)}')\n",
    "            print(\"Parâmetros:\")\n",
    "            for c in child.children:\n",
    "                print(\n",
    "                    f\"tipo={c.tag.number}, comprimento={c.length}, bytes={c.value}\"\n",
    "                )\n"
   ]
  },
  {
   "cell_type": "code",
   "execution_count": null,
   "metadata": {},
   "outputs": [],
   "source": [
    "%%time\n",
    "ber = BerDecoder()\n",
    "with buffer_manager.open() as file_buffer:\n",
    "    counter = 0\n",
    "    while (tlv := ber.decode_tlv(file_buffer)) is not None:\n",
    "        counter += 1\n",
    "\n",
    "print(f\"Numbers of CDR blocks: {counter}\")"
   ]
  }
 ],
 "metadata": {
  "kernelspec": {
   "display_name": ".venv",
   "language": "python",
   "name": "python3"
  },
  "language_info": {
   "codemirror_mode": {
    "name": "ipython",
    "version": 3
   },
   "file_extension": ".py",
   "mimetype": "text/x-python",
   "name": "python",
   "nbconvert_exporter": "python",
   "pygments_lexer": "ipython3",
   "version": "3.13.2"
  }
 },
 "nbformat": 4,
 "nbformat_minor": 2
}
