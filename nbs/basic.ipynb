{
 "cells": [
  {
   "cell_type": "code",
   "execution_count": 2,
   "metadata": {},
   "outputs": [],
   "source": [
    "from pathlib import Path\n",
    "from binascii import hexlify, b2a_hex\n",
    "from io import BufferedReader\n",
    "\n",
    "folder = Path(\"data\")\n",
    "file = folder / \"timvoz.bin\""
   ]
  },
  {
   "cell_type": "code",
   "execution_count": 2,
   "metadata": {},
   "outputs": [],
   "source": [
    "BUFFER_SIZE = None\n",
    "\n",
    "######################\n",
    "#  global variables  #\n",
    "######################\n",
    "\n",
    "# ASN.1 class\n",
    "UNIVERSAL = 0\n",
    "APPLICATION = 1\n",
    "CONTEXT = 2\n",
    "PRIVATE = 3\n",
    "className = [\"Universal\", \"Application\", \"Context-specific\", \"Private\"]\n",
    "\n",
    "# encoding P/C\n",
    "PRIMITIVE = 0\n",
    "CONSTRUCTOR = 1\n",
    "encodeName = [\"Primitive\", \"Constructor\"]\n",
    "\n",
    "# define the attributes of end-of-contents\n",
    "EOC = [0, 0, 0, 0]\n",
    "\n",
    "CLASS_SHIFT = 6\n",
    "ENCODE_SHIFT = 5\n",
    "CLASSNUM_MASK = 0x1F\n",
    "\n",
    "BITS7_MASK = 0x7F\n",
    "BIT8_SHIFT = 7\n",
    "\n",
    "HIGH_CLASS_NUM = 0x1F"
   ]
  },
  {
   "cell_type": "code",
   "execution_count": 3,
   "metadata": {},
   "outputs": [
    {
     "name": "stdout",
     "output_type": "stream",
     "text": [
      "Read 8385524 bytes\n"
     ]
    }
   ],
   "source": [
    "raw_data = file.read_bytes()\n",
    "print(f\"Read {len(raw_data)} bytes\")"
   ]
  },
  {
   "cell_type": "code",
   "execution_count": 4,
   "metadata": {},
   "outputs": [
    {
     "data": {
      "text/plain": [
       "b'\\xa0'"
      ]
     },
     "execution_count": 4,
     "metadata": {},
     "output_type": "execute_result"
    }
   ],
   "source": [
    "raw_data[:1]"
   ]
  },
  {
   "cell_type": "code",
   "execution_count": 5,
   "metadata": {},
   "outputs": [
    {
     "data": {
      "text/plain": [
       "160"
      ]
     },
     "execution_count": 5,
     "metadata": {},
     "output_type": "execute_result"
    }
   ],
   "source": [
    "raw_data[0]"
   ]
  },
  {
   "cell_type": "code",
   "execution_count": 6,
   "metadata": {},
   "outputs": [
    {
     "data": {
      "text/plain": [
       "b'a0'"
      ]
     },
     "execution_count": 6,
     "metadata": {},
     "output_type": "execute_result"
    }
   ],
   "source": [
    "b2a_hex(raw_data[:1])"
   ]
  },
  {
   "cell_type": "code",
   "execution_count": 7,
   "metadata": {},
   "outputs": [
    {
     "data": {
      "text/plain": [
       "160"
      ]
     },
     "execution_count": 7,
     "metadata": {},
     "output_type": "execute_result"
    }
   ],
   "source": [
    "int(b2a_hex(raw_data[:1]), 16)"
   ]
  },
  {
   "cell_type": "code",
   "execution_count": 8,
   "metadata": {},
   "outputs": [
    {
     "data": {
      "text/plain": [
       "'a0'"
      ]
     },
     "execution_count": 8,
     "metadata": {},
     "output_type": "execute_result"
    }
   ],
   "source": [
    "current_tag = raw_data[:1].hex()\n",
    "current_tag"
   ]
  },
  {
   "cell_type": "code",
   "execution_count": 9,
   "metadata": {},
   "outputs": [
    {
     "data": {
      "text/plain": [
       "'a0'"
      ]
     },
     "execution_count": 9,
     "metadata": {},
     "output_type": "execute_result"
    }
   ],
   "source": [
    "hex_string = b2a_hex(raw_data).decode(\"utf-8\")\n",
    "hex_string[:2]"
   ]
  },
  {
   "cell_type": "code",
   "execution_count": 10,
   "metadata": {},
   "outputs": [],
   "source": [
    "current_pos = 0\n",
    "bytes_read = 1"
   ]
  },
  {
   "cell_type": "code",
   "execution_count": 11,
   "metadata": {},
   "outputs": [],
   "source": [
    "data = raw_data[current_pos:]"
   ]
  },
  {
   "cell_type": "code",
   "execution_count": 12,
   "metadata": {},
   "outputs": [
    {
     "data": {
      "text/plain": [
       "160"
      ]
     },
     "execution_count": 12,
     "metadata": {},
     "output_type": "execute_result"
    }
   ],
   "source": [
    "start = data[0]\n",
    "start"
   ]
  },
  {
   "cell_type": "code",
   "execution_count": 13,
   "metadata": {},
   "outputs": [
    {
     "data": {
      "text/plain": [
       "2"
      ]
     },
     "execution_count": 13,
     "metadata": {},
     "output_type": "execute_result"
    }
   ],
   "source": [
    "start >> CLASS_SHIFT"
   ]
  },
  {
   "cell_type": "code",
   "execution_count": 14,
   "metadata": {},
   "outputs": [
    {
     "data": {
      "text/plain": [
       "2"
      ]
     },
     "execution_count": 14,
     "metadata": {},
     "output_type": "execute_result"
    }
   ],
   "source": [
    "tag_class = (start >> CLASS_SHIFT) & 0x03\n",
    "tag_class"
   ]
  },
  {
   "cell_type": "code",
   "execution_count": 15,
   "metadata": {},
   "outputs": [
    {
     "data": {
      "text/plain": [
       "True"
      ]
     },
     "execution_count": 15,
     "metadata": {},
     "output_type": "execute_result"
    }
   ],
   "source": [
    "constructed = bool((start >> ENCODE_SHIFT) & 0x01)\n",
    "constructed"
   ]
  },
  {
   "cell_type": "code",
   "execution_count": 16,
   "metadata": {},
   "outputs": [
    {
     "data": {
      "text/plain": [
       "0"
      ]
     },
     "execution_count": 16,
     "metadata": {},
     "output_type": "execute_result"
    }
   ],
   "source": [
    "tag_num = start & CLASSNUM_MASK\n",
    "tag_num"
   ]
  },
  {
   "cell_type": "code",
   "execution_count": 17,
   "metadata": {},
   "outputs": [
    {
     "data": {
      "text/plain": [
       "False"
      ]
     },
     "execution_count": 17,
     "metadata": {},
     "output_type": "execute_result"
    }
   ],
   "source": [
    "tag_num == HIGH_CLASS_NUM"
   ]
  },
  {
   "cell_type": "code",
   "execution_count": 18,
   "metadata": {},
   "outputs": [],
   "source": [
    "def get_tag_id(data):\n",
    "    position = 0\n",
    "    bytes_read = 1\n",
    "\n",
    "    start = data[position]\n",
    "    tag_class = start >> CLASS_SHIFT\n",
    "    constructed = bool((start >> ENCODE_SHIFT) % 2)\n",
    "    tag_number = start & CLASSNUM_MASK\n",
    "\n",
    "    if tag_number == HIGH_CLASS_NUM:\n",
    "        tag_number = 0\n",
    "        position += 1\n",
    "        while True:\n",
    "            bytes_read = bytes_read + 1\n",
    "            byte = data[position] & BITS7_MASK\n",
    "            tag_number = tag_number * 128 + byte\n",
    "            if data[position] >> BIT8_SHIFT == 0:\n",
    "                break\n",
    "            position += 1\n",
    "\n",
    "    return (tag_class, constructed, tag_number, bytes_read)"
   ]
  },
  {
   "cell_type": "code",
   "execution_count": 19,
   "metadata": {},
   "outputs": [
    {
     "data": {
      "text/plain": [
       "(2, True, 0, 1)"
      ]
     },
     "execution_count": 19,
     "metadata": {},
     "output_type": "execute_result"
    }
   ],
   "source": [
    "get_tag_id(raw_data)"
   ]
  },
  {
   "cell_type": "code",
   "execution_count": 20,
   "metadata": {},
   "outputs": [],
   "source": [
    "current_pos += 1\n",
    "data = raw_data[current_pos:]\n",
    "first_byte = data[0]"
   ]
  },
  {
   "cell_type": "code",
   "execution_count": 21,
   "metadata": {},
   "outputs": [
    {
     "data": {
      "text/plain": [
       "129"
      ]
     },
     "execution_count": 21,
     "metadata": {},
     "output_type": "execute_result"
    }
   ],
   "source": [
    "first_byte"
   ]
  },
  {
   "cell_type": "code",
   "execution_count": 22,
   "metadata": {},
   "outputs": [
    {
     "data": {
      "text/plain": [
       "1"
      ]
     },
     "execution_count": 22,
     "metadata": {},
     "output_type": "execute_result"
    }
   ],
   "source": [
    "first_byte >> BIT8_SHIFT"
   ]
  },
  {
   "cell_type": "code",
   "execution_count": 23,
   "metadata": {},
   "outputs": [
    {
     "data": {
      "text/plain": [
       "1"
      ]
     },
     "execution_count": 23,
     "metadata": {},
     "output_type": "execute_result"
    }
   ],
   "source": [
    "length_size = first_byte & 0x7F\n",
    "length_size"
   ]
  },
  {
   "cell_type": "code",
   "execution_count": 24,
   "metadata": {},
   "outputs": [
    {
     "data": {
      "text/plain": [
       "1"
      ]
     },
     "execution_count": 24,
     "metadata": {},
     "output_type": "execute_result"
    }
   ],
   "source": [
    "length_bytes = data[current_pos + 1 : current_pos + 1 + length_size]\n",
    "len(length_bytes)"
   ]
  },
  {
   "cell_type": "code",
   "execution_count": 25,
   "metadata": {},
   "outputs": [
    {
     "data": {
      "text/plain": [
       "162"
      ]
     },
     "execution_count": 25,
     "metadata": {},
     "output_type": "execute_result"
    }
   ],
   "source": [
    "length = 0\n",
    "for b in length_bytes:\n",
    "    length = (length << 8) | b\n",
    "length"
   ]
  },
  {
   "cell_type": "code",
   "execution_count": 26,
   "metadata": {},
   "outputs": [],
   "source": [
    "def getLength(data):\n",
    "    bytesConsumed = 1\n",
    "    first_byte = data[0]\n",
    "\n",
    "    # definite short form\n",
    "    if first_byte >> BIT8_SHIFT == 0:\n",
    "        return (first_byte, bytesConsumed)\n",
    "\n",
    "    length = 0\n",
    "    length_size = first_byte & BITS7_MASK\n",
    "\n",
    "    # indefinite form\n",
    "    if length_size == 0:\n",
    "        return (length_size, bytesConsumed)\n",
    "\n",
    "    # definite long form\n",
    "    for ptr in range(1, length_size + 1):\n",
    "        length = length * 256 + data[ptr]\n",
    "\n",
    "    bytesConsumed += length_size\n",
    "\n",
    "    return (length, bytesConsumed)"
   ]
  },
  {
   "cell_type": "code",
   "execution_count": 27,
   "metadata": {},
   "outputs": [
    {
     "data": {
      "text/plain": [
       "(191, 2)"
      ]
     },
     "execution_count": 27,
     "metadata": {},
     "output_type": "execute_result"
    }
   ],
   "source": [
    "getLength(data)"
   ]
  },
  {
   "cell_type": "code",
   "execution_count": 5,
   "metadata": {},
   "outputs": [],
   "source": [
    "from dataclasses import dataclass\n",
    "from enum import Enum\n",
    "from typing import Optional, Tuple\n",
    "from io import BytesIO\n",
    "\n",
    "\n",
    "class BerClass(Enum):\n",
    "    UNIVERSAL = 0\n",
    "    APPLICATION = 1\n",
    "    CONTEXT = 2\n",
    "    PRIVATE = 3\n",
    "\n",
    "\n",
    "class BerTag:\n",
    "    def __init__(self, tag_bytes: bytes):\n",
    "        first_byte = tag_bytes[0]\n",
    "        self.tag_string = hexlify(\n",
    "            tag_bytes[:1]\n",
    "        ).decode(\n",
    "            \"utf-8\"\n",
    "        )  # This doesn't belong to the original ber encoding, it's specific to this implementation\n",
    "        self.tag_class = BerClass((first_byte >> 6) & 0x03)\n",
    "        self.constructed = bool((first_byte >> 5) & 0x01)\n",
    "        self.tag_number = first_byte & 0x1F\n",
    "\n",
    "        if self.tag_number == 0x1F:\n",
    "            # Handle multi-byte tag\n",
    "            self.tag_number = 0\n",
    "            for b in tag_bytes[1:]:\n",
    "                self.tag_number = (self.tag_number << 7) | (b & 0x7F)\n",
    "\n",
    "\n",
    "@dataclass\n",
    "class TlvObject:\n",
    "    \"\"\"Tag-Length-Value object for BER encoding\"\"\"\n",
    "\n",
    "    tag: BerTag\n",
    "    length: int\n",
    "    value: bytes\n",
    "    offset: int\n",
    "    children: list[\"TlvObject\"] = None\n",
    "\n",
    "\n",
    "class BerDecoder:\n",
    "    \"\"\"Basic Encoding Rules decoder\"\"\"\n",
    "\n",
    "    def __init__(self):\n",
    "        self.max_depth = None  # Prevent stack overflow\n",
    "\n",
    "    def decode_tlv(\n",
    "        self, stream: BufferedReader, offset: int = 0, depth: int = 0\n",
    "    ) -> Optional[TlvObject]:\n",
    "        if self.max_depth is not None and depth > self.max_depth:\n",
    "            raise ValueError(\"Maximum decoding depth exceeded\")\n",
    "\n",
    "        start_offset = offset\n",
    "        tag_bytes = self._read_tag(stream)\n",
    "        if not tag_bytes:\n",
    "            return None\n",
    "\n",
    "        tag = BerTag(tag_bytes)\n",
    "        length, length_size = self._read_length(stream)\n",
    "\n",
    "        # Update offset after tag and length\n",
    "        offset += len(tag_bytes) + length_size\n",
    "\n",
    "        # Read value\n",
    "        value = stream.read(length)\n",
    "        if len(value) != length:\n",
    "            raise ValueError(\"Unexpected end of data\")\n",
    "\n",
    "        tlv = TlvObject(tag, length, value, start_offset)\n",
    "\n",
    "        # Parse constructed types recursively\n",
    "        if tag.constructed:\n",
    "            tlv.children = []\n",
    "            value_stream = BufferedReader(BytesIO(value))\n",
    "            while value_stream.tell() < length:\n",
    "                if child := self.decode_tlv(value_stream, offset, depth + 1):\n",
    "                    tlv.children.append(child)\n",
    "                    offset += child.length\n",
    "\n",
    "        return tlv\n",
    "\n",
    "    def _read_tag(self, stream: BufferedReader) -> Optional[bytes]:\n",
    "        first_byte = stream.read(1)\n",
    "        if not first_byte:\n",
    "            return None\n",
    "\n",
    "        tag_bytes = bytearray(first_byte)\n",
    "        if (first_byte[0] & 0x1F) == 0x1F:\n",
    "            # Multi-byte tag\n",
    "            while True:\n",
    "                b = stream.read(1)\n",
    "                if not b:\n",
    "                    raise ValueError(\"Unexpected end of tag\")\n",
    "                tag_bytes.append(b[0])\n",
    "                if not (b[0] & 0x80):\n",
    "                    break\n",
    "\n",
    "        return bytes(tag_bytes)\n",
    "\n",
    "    def _read_length(self, stream: BufferedReader) -> Tuple[int, int]:\n",
    "        first_byte = stream.read(1)[0]\n",
    "        if not (first_byte & 0x80):\n",
    "            return first_byte, 1\n",
    "\n",
    "        length_size = first_byte & 0x7F\n",
    "        length_bytes = stream.read(length_size)\n",
    "        if len(length_bytes) != length_size:\n",
    "            raise ValueError(\"Unexpected end of length\")\n",
    "\n",
    "        length = 0\n",
    "        for b in length_bytes:\n",
    "            length = (length << 8) | b\n",
    "\n",
    "        return length, length_size + 1"
   ]
  },
  {
   "cell_type": "code",
   "execution_count": null,
   "metadata": {},
   "outputs": [],
   "source": [
    "# file = folder / \"clarovoz.bin\"\n",
    "# file_buffer = BufferedReader(file.open(\"rb\"))\n"
   ]
  },
  {
   "cell_type": "code",
   "execution_count": null,
   "metadata": {},
   "outputs": [],
   "source": [
    "# from time import sleep\n",
    "# blocks = []\n",
    "# ber = BerDecoder()\n",
    "# while tlv := ber.decode_tlv(file_buffer):\n",
    "#     if tlv.children is not None:\n",
    "#         blocks.extend(child.tag.tag_string for child in tlv.children)"
   ]
  },
  {
   "cell_type": "markdown",
   "metadata": {},
   "source": []
  },
  {
   "cell_type": "code",
   "execution_count": 22,
   "metadata": {},
   "outputs": [
    {
     "data": {
      "text/plain": [
       "5324"
      ]
     },
     "execution_count": 22,
     "metadata": {},
     "output_type": "execute_result"
    }
   ],
   "source": [
    "len(blocks)"
   ]
  },
  {
   "cell_type": "code",
   "execution_count": 23,
   "metadata": {},
   "outputs": [
    {
     "data": {
      "text/plain": [
       "{'00',\n",
       " '30',\n",
       " 'a0',\n",
       " 'a1',\n",
       " 'a2',\n",
       " 'a3',\n",
       " 'a4',\n",
       " 'a5',\n",
       " 'a7',\n",
       " 'a9',\n",
       " 'ab',\n",
       " 'ae',\n",
       " 'af',\n",
       " 'b0',\n",
       " 'b9'}"
      ]
     },
     "execution_count": 23,
     "metadata": {},
     "output_type": "execute_result"
    }
   ],
   "source": [
    "set(blocks)"
   ]
  }
 ],
 "metadata": {
  "kernelspec": {
   "display_name": "Python 3",
   "language": "python",
   "name": "python3"
  },
  "language_info": {
   "codemirror_mode": {
    "name": "ipython",
    "version": 3
   },
   "file_extension": ".py",
   "mimetype": "text/x-python",
   "name": "python",
   "nbconvert_exporter": "python",
   "pygments_lexer": "ipython3",
   "version": "3.12.0"
  }
 },
 "nbformat": 4,
 "nbformat_minor": 2
}
