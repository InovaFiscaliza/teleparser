{
 "cells": [
  {
   "cell_type": "code",
   "execution_count": 1,
   "metadata": {},
   "outputs": [],
   "source": [
    "import gzip\n",
    "from pathlib import Path\n",
    "from io import BufferedReader, BytesIO\n",
    "from teleparser.decoders.ber import BerDecoder\n",
    "from teleparser.file_handling import BufferManager\n",
    "\n",
    "folder = Path.cwd().parent / \"data\""
   ]
  },
  {
   "cell_type": "code",
   "execution_count": 2,
   "metadata": {},
   "outputs": [],
   "source": [
    "file = folder / \"timvoz.gz\"\n",
    "buffer_manager = BufferManager(file)"
   ]
  },
  {
   "cell_type": "code",
   "execution_count": 3,
   "metadata": {},
   "outputs": [],
   "source": [
    "ber = BerDecoder()\n",
    "file_buffer = buffer_manager.open_file()\n"
   ]
  },
  {
   "cell_type": "code",
   "execution_count": 5,
   "metadata": {},
   "outputs": [
    {
     "name": "stdout",
     "output_type": "stream",
     "text": [
      "Varredura: (Call Data Record)\n",
      "a0 BerClass.CONTEXT 0 182 b'\\xa0\\x81\\xb3\\x9a\\x01\\x01\\x8b\\x04\\x00\\x00\\x00\\x00\\x88\\x03\\x18\\x0c\\x0e\\x93\\x0fZCTA09P BR00308\\x8c\\x03\\x00\\x00\\x00\\x82\\x03\\x16\\x08[\\x90\\x02\\x00\\x01\\x89\\x03\\x0b\\x00\\x0f\\x8a\\x03\\x0b\\x00\\x0f\\x9f-\\x02%?\\x9fZ\\x0cA\\n#\\x01\\x00\\x004\\x89\\x18\\x11\\x87\\xf0\\x9c\\x02\\x02\\x17\\x9f)\\x02\\x0e\\xaa\\x87\\x01\\x02\\x83\\x01\\x01\\x9f2\\x08\\x11U4\\x89\\x18\\x11\\x87\\xf0\\x80\\x03\\x00\\x02\\x01\\x8d\\x03\\x00\\x00\\x00\\x9f*\\x01\\x00\\x9f\\x1f\\x01\\x00\\x98\\x01\\x02\\x8f\\x01\\x00\\x9f.\\x05-\\xa0 %?\\x95\\x06HLR437\\x96\\x0741TWYMI\\x8e\\x01\\x00\\x84\\x07A4)\\x00R!\\xf0\\x85\\x07A@\\x93\\x88\\x11q\\x08\\x9b\\x016\\x81\\x03|;\\xac'\n",
      "================================================================================\n",
      "Call Module\n",
      "string=a0, tipo=0, comprimento=179, bytes=b'\\x9a\\x01\\x01\\x8b\\x04\\x00\\x00\\x00\\x00\\x88\\x03\\x18\\x0c\\x0e\\x93\\x0fZCTA09P BR00308\\x8c\\x03\\x00\\x00\\x00\\x82\\x03\\x16\\x08[\\x90\\x02\\x00\\x01\\x89\\x03\\x0b\\x00\\x0f\\x8a\\x03\\x0b\\x00\\x0f\\x9f-\\x02%?\\x9fZ\\x0cA\\n#\\x01\\x00\\x004\\x89\\x18\\x11\\x87\\xf0\\x9c\\x02\\x02\\x17\\x9f)\\x02\\x0e\\xaa\\x87\\x01\\x02\\x83\\x01\\x01\\x9f2\\x08\\x11U4\\x89\\x18\\x11\\x87\\xf0\\x80\\x03\\x00\\x02\\x01\\x8d\\x03\\x00\\x00\\x00\\x9f*\\x01\\x00\\x9f\\x1f\\x01\\x00\\x98\\x01\\x02\\x8f\\x01\\x00\\x9f.\\x05-\\xa0 %?\\x95\\x06HLR437\\x96\\x0741TWYMI\\x8e\\x01\\x00\\x84\\x07A4)\\x00R!\\xf0\\x85\\x07A@\\x93\\x88\\x11q\\x08\\x9b\\x016\\x81\\x03|;\\xac'\n",
      "================================================================================\n",
      "Quantidade de parâmetros dentro do Call Module: 30\n",
      "Parâmetros:\n",
      "string=9a, tipo=26, comprimento=1, bytes=b'\\x01'\n",
      "string=8b, tipo=11, comprimento=4, bytes=b'\\x00\\x00\\x00\\x00'\n",
      "string=88, tipo=8, comprimento=3, bytes=b'\\x18\\x0c\\x0e'\n",
      "string=93, tipo=19, comprimento=15, bytes=b'ZCTA09P BR00308'\n",
      "string=8c, tipo=12, comprimento=3, bytes=b'\\x00\\x00\\x00'\n",
      "string=82, tipo=2, comprimento=3, bytes=b'\\x16\\x08['\n",
      "string=90, tipo=16, comprimento=2, bytes=b'\\x00\\x01'\n",
      "string=89, tipo=9, comprimento=3, bytes=b'\\x0b\\x00\\x0f'\n",
      "string=8a, tipo=10, comprimento=3, bytes=b'\\x0b\\x00\\x0f'\n",
      "string=9f, tipo=45, comprimento=2, bytes=b'%?'\n",
      "string=9f, tipo=90, comprimento=12, bytes=b'A\\n#\\x01\\x00\\x004\\x89\\x18\\x11\\x87\\xf0'\n",
      "string=9c, tipo=28, comprimento=2, bytes=b'\\x02\\x17'\n",
      "string=9f, tipo=41, comprimento=2, bytes=b'\\x0e\\xaa'\n",
      "string=87, tipo=7, comprimento=1, bytes=b'\\x02'\n",
      "string=83, tipo=3, comprimento=1, bytes=b'\\x01'\n",
      "string=9f, tipo=50, comprimento=8, bytes=b'\\x11U4\\x89\\x18\\x11\\x87\\xf0'\n",
      "string=80, tipo=0, comprimento=3, bytes=b'\\x00\\x02\\x01'\n",
      "string=8d, tipo=13, comprimento=3, bytes=b'\\x00\\x00\\x00'\n",
      "string=9f, tipo=42, comprimento=1, bytes=b'\\x00'\n",
      "string=9f, tipo=31, comprimento=1, bytes=b'\\x00'\n",
      "string=98, tipo=24, comprimento=1, bytes=b'\\x02'\n",
      "string=8f, tipo=15, comprimento=1, bytes=b'\\x00'\n",
      "string=9f, tipo=46, comprimento=5, bytes=b'-\\xa0 %?'\n",
      "string=95, tipo=21, comprimento=6, bytes=b'HLR437'\n",
      "string=96, tipo=22, comprimento=7, bytes=b'41TWYMI'\n",
      "string=8e, tipo=14, comprimento=1, bytes=b'\\x00'\n",
      "string=84, tipo=4, comprimento=7, bytes=b'A4)\\x00R!\\xf0'\n",
      "string=85, tipo=5, comprimento=7, bytes=b'A@\\x93\\x88\\x11q\\x08'\n",
      "string=9b, tipo=27, comprimento=1, bytes=b'6'\n",
      "string=81, tipo=1, comprimento=3, bytes=b'|;\\xac'\n"
     ]
    }
   ],
   "source": [
    "if (tlv := ber.decode_tlv(file_buffer)) is not None:\n",
    "    print(\"Varredura: (Call Data Record)\")\n",
    "    print(tlv.tag.string, tlv.tag.tag_class, tlv.tag.number, tlv.length, tlv.value)\n",
    "    if tlv.children is not None:\n",
    "        for child in tlv.children:\n",
    "            print(80*'=')\n",
    "            print(\"Call Module\")\n",
    "            print(f\"string={child.tag.string}, tipo={child.tag.number}, comprimento={child.length}, bytes={child.value}\")\n",
    "            print(80 * \"=\")\n",
    "            print(f'Quantidade de parâmetros dentro do Call Module: {len(child.children)}')\n",
    "            print(\"Parâmetros:\")\n",
    "            for c in child.children:\n",
    "                print(\n",
    "                    f\"string={c.tag.string}, tipo={c.tag.number}, comprimento={c.length}, bytes={c.value}\"\n",
    "                )\n"
   ]
  },
  {
   "cell_type": "code",
   "execution_count": null,
   "metadata": {},
   "outputs": [],
   "source": [
    "%%time\n",
    "ber = BerDecoder()\n",
    "with buffer_manager.open() as file_buffer:\n",
    "    counter = 0\n",
    "    while (tlv := ber.decode_tlv(file_buffer)) is not None:\n",
    "        counter += 1\n",
    "\n",
    "print(f\"Numbers of CDR blocks: {counter}\")"
   ]
  }
 ],
 "metadata": {
  "kernelspec": {
   "display_name": ".venv",
   "language": "python",
   "name": "python3"
  },
  "language_info": {
   "codemirror_mode": {
    "name": "ipython",
    "version": 3
   },
   "file_extension": ".py",
   "mimetype": "text/x-python",
   "name": "python",
   "nbconvert_exporter": "python",
   "pygments_lexer": "ipython3",
   "version": "3.13.2"
  }
 },
 "nbformat": 4,
 "nbformat_minor": 2
}
