{
 "cells": [
  {
   "cell_type": "code",
   "execution_count": null,
   "metadata": {},
   "outputs": [
    {
     "data": {
      "text/plain": [
       "(#6) [Path('/home/rsilva/repositorios/teleparser/data/claro_volte'),Path('/home/rsilva/repositorios/teleparser/data/Exemplo-ECSCF-CDR.TXT'),Path('/home/rsilva/repositorios/teleparser/data/Exemplo-IBCF - CDR.TXT'),Path('/home/rsilva/repositorios/teleparser/data/IPBSA1ECSCF.202503181503566470'),Path('/home/rsilva/repositorios/teleparser/data/IPBSA1ECSCF.202503181727526053_NOK'),Path('/home/rsilva/repositorios/teleparser/data/SBC_TIM.asn')]"
      ]
     },
     "execution_count": 1,
     "metadata": {},
     "output_type": "execute_result"
    }
   ],
   "source": [
    "from fastcore.xtras import Path\n",
    "from teleparser import main\n",
    "\n",
    "data_folder = Path(\"/home/ronaldo/Work/teleparser/data\")\n",
    "input_folder = data_folder / \"input\"\n",
    "output_folder = data_folder / \"output\""
   ]
  },
  {
   "cell_type": "code",
   "execution_count": null,
   "metadata": {},
   "outputs": [],
   "source": []
  }
 ],
 "metadata": {
  "kernelspec": {
   "display_name": "teleparser",
   "language": "python",
   "name": "python3"
  },
  "language_info": {
   "codemirror_mode": {
    "name": "ipython",
    "version": 3
   },
   "file_extension": ".py",
   "mimetype": "text/x-python",
   "name": "python",
   "nbconvert_exporter": "python",
   "pygments_lexer": "ipython3",
   "version": "3.13.3"
  }
 },
 "nbformat": 4,
 "nbformat_minor": 2
}
