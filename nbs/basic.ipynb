{
 "cells": [
  {
   "cell_type": "code",
   "execution_count": 1,
   "metadata": {},
   "outputs": [
    {
     "data": {
      "text/plain": [
       "(#215) [Path('/home/rsilva/volte_claro/DIAMETERACCT_20250408_113036_02B3S.gz'),Path('/home/rsilva/volte_claro/DIAMETERACCT_20250408_100207_0287S.gz'),Path('/home/rsilva/volte_claro/DIAMETERACCT_20250408_101352_028CS.gz'),Path('/home/rsilva/volte_claro/DIAMETERACCT_20250408_124315_02D6S.gz'),Path('/home/rsilva/volte_claro/DIAMETERACCT_20250408_111836_02ADS.gz'),Path('/home/rsilva/volte_claro/DIAMETERACCT_20250408_100812_028AS.gz'),Path('/home/rsilva/volte_claro/DIAMETERACCT_20250408_121247_02C7S.gz'),Path('/home/rsilva/volte_claro/DIAMETERACCT_20250408_110016_02A3S.gz'),Path('/home/rsilva/volte_claro/DIAMETERACCT_20250408_104230_029BS.gz'),Path('/home/rsilva/volte_claro/DIAMETERACCT_20250408_104030_029AS.gz'),Path('/home/rsilva/volte_claro/DIAMETERACCT_20250408_111627_02ABS.gz'),Path('/home/rsilva/volte_claro/DIAMETERACCT_20250408_112436_02B0S.gz'),Path('/home/rsilva/volte_claro/DIAMETERACCT_20250408_120040_02C2S.gz'),Path('/home/rsilva/volte_claro/DIAMETERACCT_20250408_125659_02DES.gz'),Path('/home/rsilva/volte_claro/DIAMETERACCT_20250408_110436_02A6S.gz'),Path('/home/rsilva/volte_claro/DIAMETERACCT_20250408_103540_008CS.gz'),Path('/home/rsilva/volte_claro/DIAMETERACCT_20250408_121444_02C9S.gz'),Path('/home/rsilva/volte_claro/DIAMETERACCT_20250408_102003_028FS.gz'),Path('/home/rsilva/volte_claro/DIAMETERACCT_20250408_124452_02D8S.gz'),Path('/home/rsilva/volte_claro/DIAMETERACCT_20250408_120842_02C5S.gz')...]"
      ]
     },
     "execution_count": 1,
     "metadata": {},
     "output_type": "execute_result"
    }
   ],
   "source": [
    "import struct\n",
    "import gzip\n",
    "from fastcore.xtras import Path\n",
    "from io import BufferedReader, BytesIO\n",
    "from teleparser.main import BufferManager\n",
    "\n",
    "folder = Path(\"/home/rsilva/volte_claro/\")\n",
    "folder.ls()"
   ]
  },
  {
   "cell_type": "code",
   "execution_count": null,
   "metadata": {},
   "outputs": [],
   "source": [
    "class CommandFlags:\n",
    "    \"\"\"Command Flags parser for Diameter protocol messages\n",
    "\n",
    "    Parses an 8-bit byte according to the following rules:\n",
    "    Bit 0: R - Set to 1 if ACR message, 0 if ACA message\n",
    "    Bit 1: P - Set to 1 if message is proxiable (always 1 for ACR/ACA)\n",
    "    Bit 2: E - Set to 1 if ACA contains Protocol Error 3xxx, 0 otherwise\n",
    "    Bit 3: T - Set to 1 if retransmitted message, 0 otherwise\n",
    "    Bits 4-7: Reserved (must be 0)\n",
    "    \"\"\"\n",
    "\n",
    "    def __init__(self, flags_byte: int):\n",
    "        \"\"\"Initialize with a single byte (0-255) or hex value\"\"\"\n",
    "        if not (0 <= flags_byte <= 255):\n",
    "            raise ValueError(\n",
    "                f\"Command flags must be a single byte (0-255), got: {flags_byte}\"\n",
    "            )\n",
    "\n",
    "        self.flags_byte = flags_byte\n",
    "        self._parse_flags()\n",
    "\n",
    "    def _parse_flags(self):\n",
    "        \"\"\"Parse individual flag bits from the byte\"\"\"\n",
    "        # Extract individual bits (bit 0 is MSB, bit 7 is LSB)\n",
    "        self.R = bool(self.flags_byte & 0x80)  # Bit 0 (MSB)\n",
    "        self.P = bool(self.flags_byte & 0x40)  # Bit 1\n",
    "        self.E = bool(self.flags_byte & 0x20)  # Bit 2\n",
    "        self.T = bool(self.flags_byte & 0x10)  # Bit 3\n",
    "\n",
    "        if self.E and self.R:\n",
    "            raise ValueError(\n",
    "                \"Protocol Error 3xxx flag (E=1) is only valid for ACA messages, got R=1 which marks an ACR message\"\n",
    "            )\n",
    "\n",
    "        # Check reserved bits (bits 4-7) should be 0\n",
    "        reserved_bits = self.flags_byte & 0x0F\n",
    "        if reserved_bits != 0:\n",
    "            raise ValueError(f\"Reserved bits 4-7 must be 0, got: {bin(reserved_bits)}\")\n",
    "\n",
    "    @property\n",
    "    def is_acr_message(self) -> bool:\n",
    "        \"\"\"Returns True if this is an ACR message (R=1), False if ACA (R=0)\"\"\"\n",
    "        return self.R\n",
    "\n",
    "    @property\n",
    "    def is_aca_message(self) -> bool:\n",
    "        \"\"\"Returns True if this is an ACA message (R=0, P=1), False if ACR (R=1)\"\"\"\n",
    "        return not self.R and self.P\n",
    "\n",
    "    @property\n",
    "    def is_proxiable(self) -> bool:\n",
    "        \"\"\"Returns True if message is proxiable (should always be True for ACR/ACA)\"\"\"\n",
    "        return self.P\n",
    "\n",
    "    @property\n",
    "    def has_protocol_error(self) -> bool:\n",
    "        \"\"\"Returns True if ACA contains Protocol Error 3xxx\"\"\"\n",
    "        return self.E\n",
    "\n",
    "    @property\n",
    "    def is_retransmitted(self) -> bool:\n",
    "        \"\"\"Returns True if this is a retransmitted message\"\"\"\n",
    "        return self.T\n",
    "\n",
    "    @property\n",
    "    def value(self) -> dict:\n",
    "        \"\"\"Returns a dictionary with all flag values\"\"\"\n",
    "        return {\n",
    "            \"R\": self.R,\n",
    "            \"P\": self.P,\n",
    "            \"E\": self.E,\n",
    "            \"T\": self.T,\n",
    "            \"isACR\": self.is_acr_message,\n",
    "            \"isACA\": self.is_aca_message\n",
    "        }\n",
    "\n",
    "    def __str__(self) -> str:\n",
    "        \"\"\"String representation showing flag states\"\"\"\n",
    "        msg_type = \"ACR\" if self.is_acr_message else \"ACA\"\n",
    "        flags = []\n",
    "        if self.P:\n",
    "            flags.append(\"Proxiable\")\n",
    "        if self.E:\n",
    "            flags.append(\"Protocol Error\")\n",
    "        if self.T:\n",
    "            flags.append(\"Retransmitted\")\n",
    "\n",
    "        flag_str = \", \".join(flags) if flags else \"None\"\n",
    "        return f\"{msg_type} message - Flags: {flag_str}\"\n",
    "\n",
    "    def __repr__(self) -> str:\n",
    "        return f\"CommandFlags(0x{self.flags_byte:02X}) - R:{int(self.R)} P:{int(self.P)} E:{int(self.E)} T:{int(self.T)}\"\n",
    "\n",
    "\n",
    "def parse_command_flags(flags_byte: int) -> CommandFlags:\n",
    "    \"\"\"Parse command flags from a single byte\n",
    "\n",
    "    Args:\n",
    "        flags_byte: Integer value (0-255) representing the 8-bit command flags\n",
    "\n",
    "    Returns:\n",
    "        CommandFlags object with parsed flag values\n",
    "\n",
    "    Example:\n",
    "        >>> flags = parse_command_flags(0xC0)  # R=1, P=1, E=0, T=0\n",
    "        >>> print(flags.is_acr_message)  # True\n",
    "        >>> print(flags.is_proxiable)    # True\n",
    "        >>> print(flags)                 # ACR message - Flags: Proxiable\n",
    "    \"\"\"\n",
    "    return CommandFlags(flags_byte)\n"
   ]
  },
  {
   "cell_type": "code",
   "execution_count": 2,
   "metadata": {},
   "outputs": [],
   "source": [
    "file = folder.ls().shuffle()[0]\n",
    "file_handle = gzip.open(file, \"rb\")\n",
    "bdata = file_handle.read(24)\n",
    "file_handle.close()"
   ]
  },
  {
   "cell_type": "code",
   "execution_count": 3,
   "metadata": {},
   "outputs": [
    {
     "data": {
      "text/plain": [
       "b'\\xf4\\x04\\x01\\x00\\x04\\xf4\\xd0\\x00\\x01\\x0f\\x00\\x00\\x00\\x03<\\xd6\\xf8@\\x05Qx\\xb6\\x00\\x00'"
      ]
     },
     "execution_count": 3,
     "metadata": {},
     "output_type": "execute_result"
    }
   ],
   "source": [
    "bdata[:1000]"
   ]
  },
  {
   "cell_type": "code",
   "execution_count": 4,
   "metadata": {},
   "outputs": [
    {
     "data": {
      "text/plain": [
       "62468"
      ]
     },
     "execution_count": 4,
     "metadata": {},
     "output_type": "execute_result"
    }
   ],
   "source": [
    "int.from_bytes(bdata[:2])"
   ]
  },
  {
   "cell_type": "code",
   "execution_count": 22,
   "metadata": {},
   "outputs": [],
   "source": [
    "(version, msg_len_bytes, flags, cmd_bytes, app_id, hbh_id, e2e_id) = struct.unpack(\n",
    "    \">B3sB3sIII\", bdata[2:22]\n",
    ")\n"
   ]
  },
  {
   "cell_type": "code",
   "execution_count": 23,
   "metadata": {},
   "outputs": [
    {
     "data": {
      "text/plain": [
       "1"
      ]
     },
     "execution_count": 23,
     "metadata": {},
     "output_type": "execute_result"
    }
   ],
   "source": [
    "version"
   ]
  },
  {
   "cell_type": "code",
   "execution_count": 24,
   "metadata": {},
   "outputs": [
    {
     "data": {
      "text/plain": [
       "1268"
      ]
     },
     "execution_count": 24,
     "metadata": {},
     "output_type": "execute_result"
    }
   ],
   "source": [
    "int.from_bytes(msg_len_bytes)"
   ]
  },
  {
   "cell_type": "code",
   "execution_count": 25,
   "metadata": {},
   "outputs": [
    {
     "data": {
      "text/plain": [
       "'ACR message - Flags: Proxiable, Retransmitted'"
      ]
     },
     "execution_count": 25,
     "metadata": {},
     "output_type": "execute_result"
    }
   ],
   "source": [
    "str(parse_command_flags(flags))"
   ]
  },
  {
   "cell_type": "code",
   "execution_count": 19,
   "metadata": {},
   "outputs": [
    {
     "data": {
      "text/plain": [
       "{'R': True,\n",
       " 'P': True,\n",
       " 'E': False,\n",
       " 'T': True,\n",
       " 'isACR': True,\n",
       " 'isACA': False,\n",
       " 'isProxiable': True,\n",
       " 'hasProtocolError': False,\n",
       " 'isRetransmitted': True}"
      ]
     },
     "execution_count": 19,
     "metadata": {},
     "output_type": "execute_result"
    }
   ],
   "source": [
    "flags.value"
   ]
  },
  {
   "cell_type": "code",
   "execution_count": 9,
   "metadata": {},
   "outputs": [
    {
     "data": {
      "text/plain": [
       "271"
      ]
     },
     "execution_count": 9,
     "metadata": {},
     "output_type": "execute_result"
    }
   ],
   "source": [
    "int.from_bytes(cmd_bytes)"
   ]
  },
  {
   "cell_type": "code",
   "execution_count": 10,
   "metadata": {},
   "outputs": [
    {
     "data": {
      "text/plain": [
       "3"
      ]
     },
     "execution_count": 10,
     "metadata": {},
     "output_type": "execute_result"
    }
   ],
   "source": [
    "app_id"
   ]
  },
  {
   "cell_type": "code",
   "execution_count": 11,
   "metadata": {},
   "outputs": [
    {
     "data": {
      "text/plain": [
       "1020721216"
      ]
     },
     "execution_count": 11,
     "metadata": {},
     "output_type": "execute_result"
    }
   ],
   "source": [
    "hbh_id"
   ]
  },
  {
   "cell_type": "code",
   "execution_count": 12,
   "metadata": {},
   "outputs": [
    {
     "data": {
      "text/plain": [
       "89225398"
      ]
     },
     "execution_count": 12,
     "metadata": {},
     "output_type": "execute_result"
    }
   ],
   "source": [
    "e2e_id"
   ]
  },
  {
   "cell_type": "code",
   "execution_count": null,
   "metadata": {},
   "outputs": [],
   "source": []
  }
 ],
 "metadata": {
  "kernelspec": {
   "display_name": ".venv",
   "language": "python",
   "name": "python3"
  },
  "language_info": {
   "codemirror_mode": {
    "name": "ipython",
    "version": 3
   },
   "file_extension": ".py",
   "mimetype": "text/x-python",
   "name": "python",
   "nbconvert_exporter": "python",
   "pygments_lexer": "ipython3",
   "version": "3.13.3"
  }
 },
 "nbformat": 4,
 "nbformat_minor": 2
}
