{
 "cells": [
  {
   "cell_type": "code",
   "execution_count": 1,
   "metadata": {},
   "outputs": [],
   "source": [
    "import gzip\n",
    "from pathlib import Path\n",
    "from io import BufferedReader, BytesIO\n",
    "from teleparser.encoding.ber import BerDecoder\n",
    "from teleparser.file_handling import BufferManager\n",
    "\n",
    "folder = Path.cwd().parent / \"data\""
   ]
  },
  {
   "cell_type": "code",
   "execution_count": 2,
   "metadata": {},
   "outputs": [],
   "source": [
    "file = folder / \"timvoz.gz\"\n",
    "buffer_manager = BufferManager(file)"
   ]
  },
  {
   "cell_type": "code",
   "execution_count": 3,
   "metadata": {},
   "outputs": [
    {
     "name": "stdout",
     "output_type": "stream",
     "text": [
      "Numbers of CDR blocks: 50422\n",
      "CPU times: total: 2.23 s\n",
      "Wall time: 3.17 s\n"
     ]
    }
   ],
   "source": [
    "%%time\n",
    "ber = BerDecoder()\n",
    "with buffer_manager.open() as file_buffer:\n",
    "    counter = 0\n",
    "    while (tlv := ber.decode_tlv(file_buffer)) is not None:\n",
    "        counter += 1\n",
    "\n",
    "print(f\"Numbers of CDR blocks: {counter}\")"
   ]
  },
  {
   "cell_type": "code",
   "execution_count": 4,
   "metadata": {},
   "outputs": [],
   "source": [
    "ber = BerDecoder()\n",
    "file_buffer = buffer_manager.open_file()\n"
   ]
  },
  {
   "cell_type": "code",
   "execution_count": 102,
   "metadata": {},
   "outputs": [
    {
     "name": "stdout",
     "output_type": "stream",
     "text": [
      "a0 BerClass.CONTEXT 0 179 b'\\xa0\\x81\\xb0\\x9a\\x01\\x02\\x8b\\x04\\x00\\x00\\x00\\x00\\x88\\x03\\x18\\x0c\\x0e\\x93\\x0fZCTA09P BR00308\\x8c\\x03\\x00\\x00\\x00\\x82\\x03\\x16\\x08\\xbb\\x90\\x02\\x00\\x01\\x89\\x03\\x0b\\x00\\x0f\\x8a\\x03\\x0b\\x00\\x0f\\x9f-\\x02%?\\x9fZ\\x0cA\\n#\\x00\\x00\\x00\\x89\\x99\\x16\\x013\\xf0\\x9c\\x02\\n\\r\\x87\\x01\\x02\\x83\\x01\\x01\\x9f2\\x08\\x11U\\x89\\x99\\x16\\x013\\xf0\\x80\\x03\\x00\\x02\\x01\\x8d\\x03\\x00\\x00\\x0b\\x9f*\\x01\\x00\\x9f\\x1f\\x01\\x00\\x98\\x01\\x02\\x8f\\x01\\x00\\x9f.\\x05-\\x96\\xad%?\\x95\\x07NP41410\\x96\\x0751SMYNI\\x8e\\x01\\x00\\x84\\x07A\\x89\\x89#\\x80\\x87\\xf8\\x85\\x08A\\x80\\x91\\x98i\\x110\\x03\\x9b\\x01\\x00\\x81\\x03|,\\r'\n",
      "a0 BerClass.CONTEXT 0 176 b'\\x9a\\x01\\x02\\x8b\\x04\\x00\\x00\\x00\\x00\\x88\\x03\\x18\\x0c\\x0e\\x93\\x0fZCTA09P BR00308\\x8c\\x03\\x00\\x00\\x00\\x82\\x03\\x16\\x08\\xbb\\x90\\x02\\x00\\x01\\x89\\x03\\x0b\\x00\\x0f\\x8a\\x03\\x0b\\x00\\x0f\\x9f-\\x02%?\\x9fZ\\x0cA\\n#\\x00\\x00\\x00\\x89\\x99\\x16\\x013\\xf0\\x9c\\x02\\n\\r\\x87\\x01\\x02\\x83\\x01\\x01\\x9f2\\x08\\x11U\\x89\\x99\\x16\\x013\\xf0\\x80\\x03\\x00\\x02\\x01\\x8d\\x03\\x00\\x00\\x0b\\x9f*\\x01\\x00\\x9f\\x1f\\x01\\x00\\x98\\x01\\x02\\x8f\\x01\\x00\\x9f.\\x05-\\x96\\xad%?\\x95\\x07NP41410\\x96\\x0751SMYNI\\x8e\\x01\\x00\\x84\\x07A\\x89\\x89#\\x80\\x87\\xf8\\x85\\x08A\\x80\\x91\\x98i\\x110\\x03\\x9b\\x01\\x00\\x81\\x03|,\\r'\n",
      "29\n",
      "False\n"
     ]
    }
   ],
   "source": [
    "if (tlv := ber.decode_tlv(file_buffer)) is not None:\n",
    "    print(tlv.tag.string, tlv.tag.tag_class, tlv.tag.number, tlv.length, tlv.value)\n",
    "    if tlv.children is not None:\n",
    "        for child in tlv.children:\n",
    "            print(\n",
    "                child.tag.string,\n",
    "                child.tag.tag_class,\n",
    "                child.tag.number,\n",
    "                child.length,\n",
    "                child.value,\n",
    "            )\n",
    "            print(len(child.children))\n",
    "            print(any(c.tag.constructed for c in child.children))"
   ]
  }
 ],
 "metadata": {
  "kernelspec": {
   "display_name": ".venv",
   "language": "python",
   "name": "python3"
  },
  "language_info": {
   "codemirror_mode": {
    "name": "ipython",
    "version": 3
   },
   "file_extension": ".py",
   "mimetype": "text/x-python",
   "name": "python",
   "nbconvert_exporter": "python",
   "pygments_lexer": "ipython3",
   "version": "3.13.2"
  }
 },
 "nbformat": 4,
 "nbformat_minor": 2
}
